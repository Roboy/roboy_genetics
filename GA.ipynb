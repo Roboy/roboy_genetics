{
 "cells": [
  {
   "cell_type": "markdown",
   "metadata": {},
   "source": [
    "# Genetic algo for lighthouse sensor distribution on arbitrary mesh"
   ]
  },
  {
   "cell_type": "code",
   "execution_count": 1,
   "metadata": {
    "scrolled": true
   },
   "outputs": [],
   "source": [
    "import numpy as np\n",
    "from stl import mesh as meshstl\n",
    "from mpl_toolkits import mplot3d\n",
    "import matplotlib.pyplot as plt\n",
    "from plotmesh import plot_mesh\n",
    "import math\n",
    "import random\n",
    "from pyquaternion import Quaternion\n",
    "from scipy.linalg import qr\n",
    "import roslib\n",
    "import rospy\n",
    "import math\n",
    "import tf"
   ]
  },
  {
   "cell_type": "code",
   "execution_count": 2,
   "metadata": {},
   "outputs": [],
   "source": [
    "stl_file = 'roboy_models/TestCube/stls/sphere224.stl'"
   ]
  },
  {
   "cell_type": "code",
   "execution_count": 3,
   "metadata": {
    "scrolled": true
   },
   "outputs": [
    {
     "name": "stdout",
     "output_type": "stream",
     "text": [
      "([-2.0, 0, 2.0], Quaternion(0.70710678118654757, -0.0, -0.0, -0.70710678118654746))\n",
      "([2, 0.0, 2.0], Quaternion(0.70710678118654757, 0.0, 0.0, 0.70710678118654746))\n",
      "0.707 -0.000i -0.000j -0.707k\n"
     ]
    }
   ],
   "source": [
    "#Move Lighthouses to\n",
    "translationLH1 = [-2.,0,2.]\n",
    "quat1 = Quaternion(axis=[0,0,1],angle=-np.pi / 2)\n",
    "\n",
    "global LH1 \n",
    "LH1 = (translationLH1, quat1)\n",
    "\n",
    "translationLH2 = [2,0.,2.]\n",
    "quat2 = Quaternion(axis=[0,0,1], angle=np.pi / 2)\n",
    "\n",
    "global LH2\n",
    "LH2 = (translationLH2, quat2)\n",
    "\n",
    "print(LH1); print(LH2)\n",
    "\n",
    "print(quat1)"
   ]
  },
  {
   "cell_type": "code",
   "execution_count": 6,
   "metadata": {},
   "outputs": [],
   "source": [
    "from visualization_msgs.msg import Marker, MarkerArray\n",
    "from data.trafomatrix import get_random_trafomatrix\n",
    "\n",
    "scale = 0.01\n",
    "duration = 1\n",
    "pos = [0,0,0]\n",
    "orientationMesh = Quaternion(axis=(1,0,0),angle = np.pi*0)\n",
    "\n",
    "rospy.init_node('fixed_tf_broadcaster')\n",
    "\n",
    "#Visualization mesh\n",
    "topic = 'visualization_marker'\n",
    "publisher = rospy.Publisher(topic, Marker, queue_size=1)\n",
    "\n",
    "rate = rospy.Rate(10.0)\n",
    "rate2 = rospy.Rate(1)"
   ]
  },
  {
   "cell_type": "code",
   "execution_count": 12,
   "metadata": {},
   "outputs": [],
   "source": [
    "while not rospy.is_shutdown():\n",
    "    \n",
    "    for i in range(3):\n",
    "        \n",
    "        br = tf.TransformBroadcaster()\n",
    "\n",
    "\n",
    "        br.sendTransform((LH1[0][0], LH1[0][1], LH1[0][2]),\n",
    "                         (quat1[0], quat1[1], quat1[2], quat1[3]),\n",
    "                         rospy.Time.now(),\n",
    "                         \"lighthouse1\",\n",
    "                         \"world\")\n",
    "        rate.sleep()\n",
    "        br.sendTransform((LH2[0][0], LH2[0][1], LH2[0][2]),\n",
    "                         (quat2[0], quat2[1], quat2[2], quat2[3]),\n",
    "                         rospy.Time.now(),\n",
    "                         \"lighthouse2\",\n",
    "                         \"world\")\n",
    "\n",
    "        rate.sleep()\n",
    "        \n",
    "        mesh = Marker()\n",
    "        mesh.header.frame_id = 'world';\n",
    "        mesh.ns = 'ns';\n",
    "        mesh.type = Marker.MESH_RESOURCE\n",
    "        mesh.color.r = 1.0\n",
    "        mesh.color.g = 1.0\n",
    "        mesh.color.b = 1.0\n",
    "        mesh.color.a = 0.9\n",
    "        mesh.scale.x = scale\n",
    "        mesh.scale.y = scale\n",
    "        mesh.scale.z = scale\n",
    "        mesh.lifetime = rospy.Duration(-1);\n",
    "        mesh.header.stamp = rospy.Time.now()\n",
    "        mesh.action = Marker.ADD\n",
    "        mesh.id = 10000000;\n",
    "        mesh.pose.position.x = pos[0];\n",
    "        mesh.pose.position.y = pos[1];\n",
    "        mesh.pose.position.z = pos[2];\n",
    "        mesh.pose.orientation.x = orientationMesh[1];\n",
    "        mesh.pose.orientation.y = orientationMesh[2];\n",
    "        mesh.pose.orientation.z = orientationMesh[3];\n",
    "        mesh.pose.orientation.w = orientationMesh[0];\n",
    "        mesh.mesh_resource = (\"package://\" + stl_file)\n",
    "        #mesh.mesh_resource = \"package://roboy_models/roboy_2_0_simplified/meshes/CAD/head.stl\"\n",
    "\n",
    "        publisher.publish(mesh);\n",
    "        rate2.sleep()\n",
    "        #MeshMarker.type = visualization_msgs::Marker::MESH_RESOURCE;\n",
    "        #MeshMarker.mesh_resource = \"package://pr2_description/meshes/base_v0/base.dae\";\n",
    "    break\n",
    "    #print(mesh)"
   ]
  },
  {
   "cell_type": "markdown",
   "metadata": {},
   "source": [
    "# Preprocess data"
   ]
  },
  {
   "cell_type": "code",
   "execution_count": 11,
   "metadata": {
    "scrolled": true
   },
   "outputs": [
    {
     "name": "stdout",
     "output_type": "stream",
     "text": [
      "224 triangles\n",
      "\n",
      "672 vertices\n",
      "\n",
      "224 normals normiert\n",
      "\n",
      "224 sensors in centers of triangles\n"
     ]
    }
   ],
   "source": [
    "#Get mesh vertices and normals\n",
    "mesh1 = meshstl.Mesh.from_file(('../src/'+ stl_file))\n",
    "#mesh1 = meshstl.Mesh.from_file('../src/roboy_models/roboy_2_0_simplified/meshes/CAD/torso.stl')\n",
    "\n",
    "global triangles \n",
    "triangles = scale * np.matrix(mesh1.points)\n",
    "\n",
    "\n",
    "vertices = np.reshape(triangles,(len(triangles)*3,3)) \n",
    "\n",
    "#normals = np.zeros_like((len(triangles),3))\n",
    "normalsNotNorm = mesh1.normals\n",
    "\n",
    "normals = []\n",
    "for normal in normalsNotNorm:\n",
    "    normals.append(1/np.linalg.norm(normal,2)*normal)\n",
    "    \n",
    "normals = np.matrix(normals)\n",
    "normals = scale * normals\n",
    "\n",
    "#Initialize sensors in centers of triangle\n",
    "sensors = (triangles[:,0:3]+triangles[:,3:6]+triangles[:,6:9])/3\n",
    "\n",
    "print('%d triangles' %len(triangles))\n",
    "#print(triangles)\n",
    "print('')\n",
    "print('%d vertices' %len(vertices))\n",
    "#print(vertices)\n",
    "print('')\n",
    "print('%d normals normiert' %len(normals))\n",
    "#print(normals)\n",
    "print('')\n",
    "print('%d sensors in centers of triangles' %len(sensors))\n",
    "#print(sensors)\n",
    "#print(vertices); print(normals); print(sensors)"
   ]
  },
  {
   "cell_type": "code",
   "execution_count": 13,
   "metadata": {
    "scrolled": true
   },
   "outputs": [
    {
     "name": "stdout",
     "output_type": "stream",
     "text": [
      "[[ -5.72377014e-02   2.42112732e-02  -1.16002989e-01   1.00000000e+00]\n",
      " [ -2.30117798e-02  -7.60902405e-03  -1.34323759e-01   1.00000000e+00]\n",
      " [ -7.21518707e-02  -1.52587891e-07  -1.07804518e-01   1.00000000e+00]\n",
      " ..., \n",
      " [ -3.49208832e-03  -9.99381924e-02  -2.70083880e-02   1.00000000e+00]\n",
      " [ -6.60676956e-04  -9.94094467e-02  -4.85675335e-02   1.00000000e+00]\n",
      " [  2.06223106e-02  -9.85083485e-02  -4.05343151e-02   1.00000000e+00]]\n",
      "\n",
      "[[ -4.75511312e-03  -4.96887323e-05  -8.79695654e-03   0.00000000e+00]\n",
      " [ -9.87434804e-03   3.65564600e-04   1.53740928e-03   0.00000000e+00]\n",
      " [  3.12507264e-04   7.22206086e-04   9.96899009e-03   0.00000000e+00]\n",
      " [  9.87468779e-03   3.26725803e-04  -1.54395431e-03   0.00000000e+00]\n",
      " [  4.76005256e-03   1.40244782e-03   8.68187964e-03   0.00000000e+00]\n",
      " [  5.89473426e-03   7.55205974e-04   8.04249942e-03   0.00000000e+00]\n",
      " [  8.21867645e-03   1.42911509e-03  -5.51461637e-03   0.00000000e+00]\n",
      " [  2.63164967e-03   1.03196383e-03  -9.59215641e-03   0.00000000e+00]\n",
      " [ -2.03297287e-03   1.75868005e-03  -9.63192999e-03   0.00000000e+00]\n",
      " [ -3.51905018e-03   1.53157115e-03  -9.23420727e-03   0.00000000e+00]\n",
      " [ -7.40788043e-03   2.44455844e-03  -6.25679255e-03   0.00000000e+00]\n",
      " [ -8.46616507e-03   1.08038187e-03  -5.21122038e-03   0.00000000e+00]\n",
      " [ -9.47320580e-03   1.52649865e-03  -2.81570077e-03   0.00000000e+00]\n",
      " [ -9.66369152e-03   1.76862985e-03   1.86681628e-03   0.00000000e+00]\n",
      " [ -6.09120131e-03   2.20036075e-03   7.61942804e-03   0.00000000e+00]\n",
      " [ -4.81099874e-03   5.84119558e-04   8.74717534e-03   0.00000000e+00]\n",
      " [  7.45677292e-03   2.32716218e-03   6.24346495e-03   0.00000000e+00]\n",
      " [  8.56647015e-03   1.11809731e-03   5.03641307e-03   0.00000000e+00]\n",
      " [  9.47252929e-03   1.52610660e-03   2.81818807e-03   0.00000000e+00]\n",
      " [  9.66200888e-03   1.77061781e-03  -1.87363029e-03   0.00000000e+00]\n",
      " [  6.11553192e-03   1.66082561e-03  -7.73575544e-03   0.00000000e+00]\n",
      " [  6.09205723e-03   1.62175342e-03  -7.76252210e-03   0.00000000e+00]\n",
      " [  2.78571039e-03   1.61421195e-03  -9.46753085e-03   0.00000000e+00]\n",
      " [ -8.05691123e-03   1.89515397e-03   5.61200321e-03   0.00000000e+00]\n",
      " [  1.96855199e-04   1.66635916e-03   9.85822022e-03   0.00000000e+00]\n",
      " [ -8.26059282e-03   2.60570407e-03   4.99729097e-03   0.00000000e+00]\n",
      " [ -2.13033363e-03   3.12711418e-03   9.25650239e-03   0.00000000e+00]\n",
      " [  8.49880219e-03   2.51642555e-03  -4.63011533e-03   0.00000000e+00]\n",
      " [ -4.11033630e-04   3.82961482e-03  -9.22849476e-03   0.00000000e+00]\n",
      " [ -7.11472094e-03   3.28881919e-03  -6.21002555e-03   0.00000000e+00]\n",
      " [ -9.24727440e-03   3.11087161e-03  -2.19326153e-03   0.00000000e+00]\n",
      " [ -9.20920432e-03   3.85934144e-03   5.44090495e-04   0.00000000e+00]\n",
      " [  2.44139284e-03   3.52871746e-03   9.03259516e-03   0.00000000e+00]\n",
      " [  3.84979039e-03   3.16093653e-03   8.67107689e-03   0.00000000e+00]\n",
      " [  7.16973186e-03   3.38690907e-03   6.09292984e-03   0.00000000e+00]\n",
      " [  9.25076425e-03   3.10440719e-03   2.18769670e-03   0.00000000e+00]\n",
      " [  9.11292851e-03   4.10163850e-03  -3.62067558e-04   0.00000000e+00]\n",
      " [  2.07878545e-03   3.35338086e-03  -9.18876946e-03   0.00000000e+00]\n",
      " [ -9.14208233e-03   4.03210968e-03  -4.05482762e-04   0.00000000e+00]\n",
      " [ -2.38310069e-03   4.48092610e-03   8.61638725e-03   0.00000000e+00]\n",
      " [  9.07031000e-03   4.21059549e-03  -1.87339575e-05   0.00000000e+00]\n",
      " [ -4.90778089e-03   5.03693461e-03  -7.10935771e-03   0.00000000e+00]\n",
      " [ -4.92466420e-03   5.03838837e-03  -7.09664166e-03   0.00000000e+00]\n",
      " [ -7.81839669e-03   4.94769573e-03  -3.79380614e-03   0.00000000e+00]\n",
      " [ -7.53013372e-03   4.58236724e-03   4.72218186e-03   0.00000000e+00]\n",
      " [ -5.43673337e-03   4.99753445e-03   6.74289107e-03   0.00000000e+00]\n",
      " [ -5.30514359e-03   4.71825093e-03   7.04226911e-03   0.00000000e+00]\n",
      " [  1.76882684e-03   5.35549164e-03   8.25772107e-03   0.00000000e+00]\n",
      " [  5.30222356e-03   5.25216460e-03   6.65591419e-03   0.00000000e+00]\n",
      " [  5.00882983e-03   5.21382153e-03   6.90852284e-03   0.00000000e+00]\n",
      " [  7.81839669e-03   4.94769573e-03   3.79380614e-03   0.00000000e+00]\n",
      " [  7.53326595e-03   4.63611275e-03  -4.66437250e-03   0.00000000e+00]\n",
      " [  5.55085301e-03   4.65824217e-03  -6.89121306e-03   0.00000000e+00]\n",
      " [  5.58391452e-03   4.71665025e-03  -6.82444870e-03   0.00000000e+00]\n",
      " [  3.10875982e-03   4.72110450e-03  -8.24904799e-03   0.00000000e+00]\n",
      " [ -1.35995343e-03   5.94468534e-03  -7.92535484e-03   0.00000000e+00]\n",
      " [ -7.72843778e-03   5.79520643e-03   2.58589000e-03   0.00000000e+00]\n",
      " [ -7.48916507e-03   5.70122421e-03   3.37764144e-03   0.00000000e+00]\n",
      " [ -1.77470759e-03   5.33441663e-03   8.27009201e-03   0.00000000e+00]\n",
      " [  1.94763944e-03   6.20447993e-03   7.59678423e-03   0.00000000e+00]\n",
      " [  7.50369310e-03   5.59636831e-03  -3.51785064e-03   0.00000000e+00]\n",
      " [ -2.33499497e-03   6.13698840e-03  -7.54222512e-03   0.00000000e+00]\n",
      " [ -5.45465708e-03   6.23189151e-03  -5.60448527e-03   0.00000000e+00]\n",
      " [ -7.12038219e-03   6.16125286e-03  -3.36735964e-03   0.00000000e+00]\n",
      " [ -7.08310604e-03   6.31564975e-03  -3.15312296e-03   0.00000000e+00]\n",
      " [ -7.27847219e-03   6.70557618e-03  -1.43495411e-03   0.00000000e+00]\n",
      " [  2.33241573e-03   6.36662543e-03   7.35023320e-03   0.00000000e+00]\n",
      " [  5.45465708e-03   6.23189151e-03   5.60448527e-03   0.00000000e+00]\n",
      " [  7.12038219e-03   6.16125286e-03   3.36735964e-03   0.00000000e+00]\n",
      " [  7.08310604e-03   6.31564975e-03   3.15312296e-03   0.00000000e+00]\n",
      " [  7.28802681e-03   6.74567521e-03   1.17496863e-03   0.00000000e+00]\n",
      " [ -4.48249638e-03   6.94587648e-03   5.62690258e-03   0.00000000e+00]\n",
      " [  4.52089667e-03   7.05898523e-03  -5.45272589e-03   0.00000000e+00]\n",
      " [ -6.69512868e-03   7.41839170e-03  -3.77764851e-04   0.00000000e+00]\n",
      " [ -6.74799621e-03   7.36965895e-03   3.90743315e-04   0.00000000e+00]\n",
      " [ -4.68854785e-03   7.59824395e-03   4.50380087e-03   0.00000000e+00]\n",
      " [ -1.28678620e-03   7.09781110e-03   6.92569494e-03   0.00000000e+00]\n",
      " [ -1.23135746e-03   7.13598847e-03   6.89647853e-03   0.00000000e+00]\n",
      " [  6.61593139e-03   7.48805881e-03   3.98019701e-04   0.00000000e+00]\n",
      " [  6.11849308e-03   7.46622562e-03  -2.61141837e-03   0.00000000e+00]\n",
      " [  6.21148765e-03   7.24915266e-03  -2.97778666e-03   0.00000000e+00]\n",
      " [  4.59494829e-03   7.28619099e-03  -5.07915854e-03   0.00000000e+00]\n",
      " [  1.65472090e-03   7.12333262e-03  -6.82055950e-03   0.00000000e+00]\n",
      " [  1.17868431e-03   7.32288182e-03  -6.70716941e-03   0.00000000e+00]\n",
      " [ -4.24238563e-03   8.09779704e-03  -4.05312717e-03   0.00000000e+00]\n",
      " [  4.24238563e-03   8.09779704e-03   4.05312717e-03   0.00000000e+00]\n",
      " [ -4.18804318e-03   8.69731545e-03   2.61093885e-03   0.00000000e+00]\n",
      " [ -3.96603197e-03   8.46320033e-03   3.55595887e-03   0.00000000e+00]\n",
      " [ -8.07675496e-04   8.42407227e-03   5.32753706e-03   0.00000000e+00]\n",
      " [  8.07675496e-04   8.42407227e-03  -5.32753706e-03   0.00000000e+00]\n",
      " [ -2.12131426e-03   8.72202992e-03  -4.40751851e-03   0.00000000e+00]\n",
      " [ -2.38758355e-03   8.82989466e-03  -4.04133767e-03   0.00000000e+00]\n",
      " [ -3.30223411e-03   8.70100498e-03  -3.65892738e-03   0.00000000e+00]\n",
      " [ -1.72553331e-03   8.95503402e-03   4.10242587e-03   0.00000000e+00]\n",
      " [  2.12131426e-03   8.72202992e-03   4.40751851e-03   0.00000000e+00]\n",
      " [  2.38758355e-03   8.82989466e-03   4.04133767e-03   0.00000000e+00]\n",
      " [  3.30223411e-03   8.70100498e-03   3.65892738e-03   0.00000000e+00]\n",
      " [  2.00445980e-03   9.07334447e-03  -3.69547874e-03   0.00000000e+00]\n",
      " [ -4.11326438e-03   9.06626225e-03  -9.40187499e-04   0.00000000e+00]\n",
      " [  4.11326438e-03   9.06626225e-03   9.40187499e-04   0.00000000e+00]\n",
      " [  3.76715511e-03   9.07214642e-03  -1.87208772e-03   0.00000000e+00]\n",
      " [  2.00438380e-03   8.91822517e-03  -4.05557513e-03   0.00000000e+00]\n",
      " [ -3.25925976e-03   9.45244849e-03   1.68606713e-04   0.00000000e+00]\n",
      " [  3.22696686e-03   9.46272135e-03  -2.08789948e-04   0.00000000e+00]\n",
      " [ -5.95049597e-04   9.69867647e-03  -2.36253604e-03   0.00000000e+00]\n",
      " [ -2.99877785e-04   9.76915836e-03   2.11509049e-03   0.00000000e+00]\n",
      " [  4.58555743e-04   9.73744988e-03   2.22975358e-03   0.00000000e+00]\n",
      " [  2.18731105e-03   9.75568175e-03  -2.05772221e-04   0.00000000e+00]\n",
      " [  5.21411337e-04   9.72200811e-03  -2.28269041e-03   0.00000000e+00]\n",
      " [ -1.66378975e-03   9.85843480e-03   2.07539052e-04   0.00000000e+00]\n",
      " [  1.09331921e-03   9.89906371e-03  -9.01773050e-04   0.00000000e+00]\n",
      " [ -1.15229785e-03   9.91870046e-03   5.40008768e-04   0.00000000e+00]\n",
      " [ -9.87468779e-03  -3.26725803e-04  -1.54395431e-03   0.00000000e+00]\n",
      " [ -4.75511253e-03   4.96880850e-05   8.79695654e-03   0.00000000e+00]\n",
      " [  9.87434804e-03  -3.65564600e-04   1.53740928e-03   0.00000000e+00]\n",
      " [  3.12507264e-04  -7.22206086e-04  -9.96899009e-03   0.00000000e+00]\n",
      " [  2.63164967e-03  -1.03196383e-03   9.59215641e-03   0.00000000e+00]\n",
      " [  8.21867645e-03  -1.42911509e-03   5.51461637e-03   0.00000000e+00]\n",
      " [  5.89473426e-03  -7.55205750e-04  -8.04249823e-03   0.00000000e+00]\n",
      " [  4.76005256e-03  -1.40244782e-03  -8.68187964e-03   0.00000000e+00]\n",
      " [ -4.81099904e-03  -5.84119223e-04  -8.74717534e-03   0.00000000e+00]\n",
      " [ -6.09120131e-03  -2.20036075e-03  -7.61942804e-03   0.00000000e+00]\n",
      " [ -9.66200888e-03  -1.77061781e-03  -1.87363029e-03   0.00000000e+00]\n",
      " [ -9.47252929e-03  -1.52610660e-03   2.81818807e-03   0.00000000e+00]\n",
      " [ -8.46616507e-03  -1.08038187e-03   5.21122038e-03   0.00000000e+00]\n",
      " [ -7.40787983e-03  -2.44455874e-03   6.25679255e-03   0.00000000e+00]\n",
      " [ -3.51905018e-03  -1.53157115e-03   9.23420727e-03   0.00000000e+00]\n",
      " [ -2.03297287e-03  -1.75868005e-03   9.63192999e-03   0.00000000e+00]\n",
      " [  2.78571039e-03  -1.61421195e-03   9.46753085e-03   0.00000000e+00]\n",
      " [  6.09205663e-03  -1.62175357e-03   7.76252270e-03   0.00000000e+00]\n",
      " [  6.11553252e-03  -1.66082561e-03   7.73575604e-03   0.00000000e+00]\n",
      " [  9.66369152e-03  -1.76862985e-03   1.86681628e-03   0.00000000e+00]\n",
      " [  9.47320580e-03  -1.52649865e-03  -2.81570077e-03   0.00000000e+00]\n",
      " [  8.56647015e-03  -1.11809731e-03  -5.03641307e-03   0.00000000e+00]\n",
      " [  7.45677292e-03  -2.32716188e-03  -6.24346435e-03   0.00000000e+00]\n",
      " [ -8.05691123e-03  -1.89515397e-03  -5.61200321e-03   0.00000000e+00]\n",
      " [  1.96855199e-04  -1.66635916e-03  -9.85822022e-03   0.00000000e+00]\n",
      " [ -2.13033363e-03  -3.12711418e-03  -9.25650239e-03   0.00000000e+00]\n",
      " [ -8.26059282e-03  -2.60570407e-03  -4.99729097e-03   0.00000000e+00]\n",
      " [  8.49880219e-03  -2.51642555e-03   4.63011533e-03   0.00000000e+00]\n",
      " [ -9.21290219e-03  -3.85156512e-03  -5.36541529e-04   0.00000000e+00]\n",
      " [ -9.25076425e-03  -3.10440719e-03   2.18769670e-03   0.00000000e+00]\n",
      " [ -7.11472034e-03  -3.28881919e-03   6.21002614e-03   0.00000000e+00]\n",
      " [ -4.11033630e-04  -3.82961482e-03   9.22849476e-03   0.00000000e+00]\n",
      " [  2.07878545e-03  -3.35338086e-03   9.18876946e-03   0.00000000e+00]\n",
      " [  9.10962760e-03  -4.10796165e-03   3.73266861e-04   0.00000000e+00]\n",
      " [  9.24727440e-03  -3.11087161e-03  -2.19326153e-03   0.00000000e+00]\n",
      " [  7.16973186e-03  -3.38690937e-03  -6.09292984e-03   0.00000000e+00]\n",
      " [  3.84979039e-03  -3.16093653e-03  -8.67107689e-03   0.00000000e+00]\n",
      " [  2.44139284e-03  -3.52871746e-03  -9.03259516e-03   0.00000000e+00]\n",
      " [ -2.38310069e-03  -4.48092669e-03  -8.61638725e-03   0.00000000e+00]\n",
      " [ -9.14760530e-03  -4.02000606e-03   4.01101336e-04   0.00000000e+00]\n",
      " [  9.06443775e-03  -4.22324419e-03   1.32803456e-05   0.00000000e+00]\n",
      " [ -5.30514419e-03  -4.71825153e-03  -7.04226851e-03   0.00000000e+00]\n",
      " [ -5.43673337e-03  -4.99753445e-03  -6.74289107e-03   0.00000000e+00]\n",
      " [ -7.53013372e-03  -4.58236724e-03  -4.72218186e-03   0.00000000e+00]\n",
      " [ -7.81839669e-03  -4.94769573e-03   3.79380614e-03   0.00000000e+00]\n",
      " [ -4.92466390e-03  -5.03838837e-03   7.09664166e-03   0.00000000e+00]\n",
      " [ -4.90778118e-03  -5.03693461e-03   7.10935831e-03   0.00000000e+00]\n",
      " [  3.10875922e-03  -4.72110361e-03   8.24904799e-03   0.00000000e+00]\n",
      " [  5.58391452e-03  -4.71664995e-03   6.82444930e-03   0.00000000e+00]\n",
      " [  5.55085301e-03  -4.65824217e-03   6.89121306e-03   0.00000000e+00]\n",
      " [  7.53326595e-03  -4.63611275e-03   4.66437250e-03   0.00000000e+00]\n",
      " [  7.81839669e-03  -4.94769573e-03  -3.79380614e-03   0.00000000e+00]\n",
      " [  5.00882983e-03  -5.21382213e-03  -6.90852284e-03   0.00000000e+00]\n",
      " [  5.30222356e-03  -5.25216520e-03  -6.65591419e-03   0.00000000e+00]\n",
      " [  1.76882684e-03  -5.35549164e-03  -8.25772107e-03   0.00000000e+00]\n",
      " [ -1.77470788e-03  -5.33441663e-03  -8.27009201e-03   0.00000000e+00]\n",
      " [ -7.48916507e-03  -5.70122421e-03  -3.37764144e-03   0.00000000e+00]\n",
      " [ -7.72843778e-03  -5.79520643e-03  -2.58589000e-03   0.00000000e+00]\n",
      " [ -1.35995343e-03  -5.94468415e-03   7.92535484e-03   0.00000000e+00]\n",
      " [  7.50369310e-03  -5.59636831e-03   3.51785064e-03   0.00000000e+00]\n",
      " [  1.94763929e-03  -6.20447993e-03  -7.59678364e-03   0.00000000e+00]\n",
      " [ -7.27847219e-03  -6.70557618e-03   1.43495411e-03   0.00000000e+00]\n",
      " [ -7.08310604e-03  -6.31564975e-03   3.15312296e-03   0.00000000e+00]\n",
      " [ -7.12038219e-03  -6.16125286e-03   3.36735964e-03   0.00000000e+00]\n",
      " [ -5.45465708e-03  -6.23189151e-03   5.60448527e-03   0.00000000e+00]\n",
      " [ -2.33499467e-03  -6.13698781e-03   7.54222512e-03   0.00000000e+00]\n",
      " [  7.28802681e-03  -6.74567521e-03  -1.17496863e-03   0.00000000e+00]\n",
      " [  7.08310604e-03  -6.31564975e-03  -3.15312296e-03   0.00000000e+00]\n",
      " [  7.12038219e-03  -6.16125286e-03  -3.36735964e-03   0.00000000e+00]\n",
      " [  5.45465708e-03  -6.23189151e-03  -5.60448527e-03   0.00000000e+00]\n",
      " [  2.33241603e-03  -6.36662543e-03  -7.35023320e-03   0.00000000e+00]\n",
      " [ -4.48249638e-03  -6.94587648e-03  -5.62690258e-03   0.00000000e+00]\n",
      " [  4.52089667e-03  -7.05898523e-03   5.45272589e-03   0.00000000e+00]\n",
      " [ -1.23135731e-03  -7.13598847e-03  -6.89647794e-03   0.00000000e+00]\n",
      " [ -1.28678665e-03  -7.09781170e-03  -6.92569494e-03   0.00000000e+00]\n",
      " [ -4.68854785e-03  -7.59824395e-03  -4.50380087e-03   0.00000000e+00]\n",
      " [ -6.74799621e-03  -7.36965895e-03  -3.90743315e-04   0.00000000e+00]\n",
      " [ -6.69512868e-03  -7.41839170e-03   3.77764851e-04   0.00000000e+00]\n",
      " [  1.17868431e-03  -7.32288182e-03   6.70716941e-03   0.00000000e+00]\n",
      " [  1.65472016e-03  -7.12333143e-03   6.82055950e-03   0.00000000e+00]\n",
      " [  4.59494829e-03  -7.28619099e-03   5.07915854e-03   0.00000000e+00]\n",
      " [  6.21148765e-03  -7.24915266e-03   2.97778666e-03   0.00000000e+00]\n",
      " [  6.11849308e-03  -7.46622562e-03   2.61141837e-03   0.00000000e+00]\n",
      " [  6.61593139e-03  -7.48805881e-03  -3.98019701e-04   0.00000000e+00]\n",
      " [ -4.24238563e-03  -8.09779704e-03   4.05312717e-03   0.00000000e+00]\n",
      " [  4.24238563e-03  -8.09779704e-03  -4.05312717e-03   0.00000000e+00]\n",
      " [ -7.08964467e-04  -8.66087079e-03  -4.94840235e-03   0.00000000e+00]\n",
      " [ -3.96603197e-03  -8.46320033e-03  -3.55595887e-03   0.00000000e+00]\n",
      " [ -4.18804318e-03  -8.69731545e-03  -2.61093885e-03   0.00000000e+00]\n",
      " [  8.07675496e-04  -8.42407227e-03   5.32753706e-03   0.00000000e+00]\n",
      " [ -1.29446641e-03  -8.99195731e-03  -4.17960018e-03   0.00000000e+00]\n",
      " [ -3.30223411e-03  -8.70100498e-03   3.65892738e-03   0.00000000e+00]\n",
      " [ -2.38758355e-03  -8.82989466e-03   4.04133767e-03   0.00000000e+00]\n",
      " [ -2.12131426e-03  -8.72202992e-03   4.40751851e-03   0.00000000e+00]\n",
      " [  2.00445980e-03  -9.07334447e-03   3.69547874e-03   0.00000000e+00]\n",
      " [  3.23276252e-03  -8.73972118e-03  -3.62856746e-03   0.00000000e+00]\n",
      " [  2.15187877e-03  -8.56582046e-03  -4.69000369e-03   0.00000000e+00]\n",
      " [ -4.11326438e-03  -9.06626225e-03   9.40187499e-04   0.00000000e+00]\n",
      " [  2.00438380e-03  -8.91822517e-03   4.05557513e-03   0.00000000e+00]\n",
      " [  3.76715511e-03  -9.07214642e-03   1.87208772e-03   0.00000000e+00]\n",
      " [  3.97440344e-03  -9.12531495e-03  -9.65791568e-04   0.00000000e+00]\n",
      " [  3.14897090e-03  -9.17842925e-03  -2.41669834e-03   0.00000000e+00]\n",
      " [ -3.25925976e-03  -9.45244849e-03  -1.68606713e-04   0.00000000e+00]\n",
      " [  3.38970602e-03  -9.38349485e-03   6.78181946e-04   0.00000000e+00]\n",
      " [ -6.02904633e-04  -9.71051037e-03  -2.31138483e-03   0.00000000e+00]\n",
      " [ -5.54385930e-04  -9.71061826e-03   2.32304871e-03   0.00000000e+00]\n",
      " [  4.95582856e-04  -9.73075867e-03   2.25094184e-03   0.00000000e+00]\n",
      " [ -1.71165675e-03  -9.85025942e-03  -2.06467714e-04   0.00000000e+00]\n",
      " [  1.09586097e-03  -9.89827156e-03   9.07371864e-04   0.00000000e+00]\n",
      " [  1.02250181e-03  -9.81679082e-03  -1.60782352e-03   0.00000000e+00]\n",
      " [ -1.38659105e-03  -9.89428818e-03  -4.24765125e-04   0.00000000e+00]\n",
      " [  4.90917899e-04  -9.98631239e-03  -1.80444494e-04   0.00000000e+00]]\n",
      "\n",
      "[[ -5.72377014e-02   2.42112732e-02  -1.16002989e-01   1.00000000e+00]\n",
      " [ -2.30117798e-02  -7.60902405e-03  -1.34323759e-01   1.00000000e+00]\n",
      " [ -7.21518707e-02  -1.52587891e-07  -1.07804518e-01   1.00000000e+00]\n",
      " ..., \n",
      " [ -3.49208832e-03  -9.99381924e-02  -2.70083880e-02   1.00000000e+00]\n",
      " [ -6.60676956e-04  -9.94094467e-02  -4.85675335e-02   1.00000000e+00]\n",
      " [  2.06223106e-02  -9.85083485e-02  -4.05343151e-02   1.00000000e+00]]\n",
      "\n"
     ]
    }
   ],
   "source": [
    "#Prepare vertices, normals and sensor locations for Transformation\n",
    "\n",
    "verticesRot = np.insert(vertices, 3,values=1,axis=1)\n",
    "print(verticesRot)\n",
    "print('')\n",
    "\n",
    "normalsRot = np.insert(normals, 3, values=0, axis=1)\n",
    "print(normalsRot)\n",
    "print('')\n",
    "\n",
    "sensorsRot = np.insert(vertices, 3,values=1,axis=1)\n",
    "print(sensorsRot)\n",
    "print('')"
   ]
  },
  {
   "cell_type": "code",
   "execution_count": 14,
   "metadata": {},
   "outputs": [],
   "source": [
    "#Test transform vertices\n",
    "T = get_random_trafomatrix()\n",
    "newvertices = np.dot(T,np.transpose(verticesRot)).T\n",
    "\n",
    "\n",
    "#print(newvertices)"
   ]
  },
  {
   "cell_type": "code",
   "execution_count": 15,
   "metadata": {
    "scrolled": true
   },
   "outputs": [],
   "source": [
    "#Sensor visualization in RVIZ\n",
    "\n",
    "\n",
    "for i,sensor in enumerate(sensors):\n",
    "\n",
    "    sensor = np.squeeze(np.array(sensor))\n",
    "    \n",
    "    rate3 = rospy.Rate(10)\n",
    "    while not rospy.is_shutdown():\n",
    "\n",
    "        markers = Marker()\n",
    "        markers.header.frame_id = 'world'\n",
    "        markers.ns = 'ns'\n",
    "        markers.type = Marker.SPHERE\n",
    "\n",
    "        markers.pose.position.x = sensor[0];\n",
    "        markers.pose.position.y = sensor[1];\n",
    "        markers.pose.position.z = sensor[2];\n",
    "        markers.pose.orientation.x = 0\n",
    "        markers.pose.orientation.y = 0\n",
    "        markers.pose.orientation.z = 0\n",
    "        markers.pose.orientation.w = 0\n",
    "\n",
    "        #print(marker.points)\n",
    "        markers.color.r = 0.0\n",
    "        markers.color.g = 0.0\n",
    "        markers.color.b = 1.0\n",
    "        markers.color.a = 1.0\n",
    "\n",
    "        markers.scale.x = 0.01\n",
    "        markers.scale.y = 0.01\n",
    "        markers.scale.z = 0.01\n",
    "        markers.lifetime = rospy.Duration(-1);\n",
    "        markers.header.stamp = rospy.Time.now()\n",
    "        markers.action = Marker.ADD\n",
    "        markers.id = 100+i\n",
    "\n",
    "        #mesh.mesh_resource = \"package://common_utilities/stls/testcube_40mm.stl\"\n",
    "        #mesh.mesh_resource = \"package://roboy_models/roboy_2_0_simplified/meshes/CAD/head.stl\"\n",
    "\n",
    "        publisher.publish(markers);\n",
    "        rate3.sleep()\n",
    "        break\n"
   ]
  },
  {
   "cell_type": "markdown",
   "metadata": {},
   "source": [
    "# GA"
   ]
  },
  {
   "cell_type": "code",
   "execution_count": 16,
   "metadata": {
    "scrolled": true
   },
   "outputs": [],
   "source": [
    "from deap import algorithms, base, creator, tools"
   ]
  },
  {
   "cell_type": "code",
   "execution_count": 17,
   "metadata": {
    "scrolled": false
   },
   "outputs": [],
   "source": [
    "#sensors to dict\n",
    "sensorList = []\n",
    "\n",
    "for sensor in sensors:\n",
    "    sensor = np.squeeze(np.array(sensor)).tolist()\n",
    "    sensorList.append(sensor)\n",
    "\n",
    "sensor_dict =  list(zip(range(len(sensors)), sensorList))"
   ]
  },
  {
   "cell_type": "code",
   "execution_count": 18,
   "metadata": {},
   "outputs": [],
   "source": [
    "creator.create(\"FitnessMax\", base.Fitness, weights=(1.0,1.0,1.0)) # 1 -> maximum probblem\n",
    "creator.create(\"Individual\", list, fitness=creator.FitnessMax)"
   ]
  },
  {
   "cell_type": "code",
   "execution_count": 19,
   "metadata": {},
   "outputs": [],
   "source": [
    "toolbox = base.Toolbox()"
   ]
  },
  {
   "cell_type": "code",
   "execution_count": 20,
   "metadata": {},
   "outputs": [],
   "source": [
    "# Find random sensors\n",
    "def randomSensor(v):\n",
    "    i = random.randint(0,len(v)-1)\n",
    "    #print(i)\n",
    "    rand = v[i]\n",
    "    \n",
    "    return rand[0]"
   ]
  },
  {
   "cell_type": "code",
   "execution_count": 21,
   "metadata": {},
   "outputs": [
    {
     "name": "stdout",
     "output_type": "stream",
     "text": [
      "[ 0.01959535 -0.03528325  0.05385132]\n"
     ]
    }
   ],
   "source": [
    "r = np.squeeze(np.array(randomSensor(sensors)))\n",
    "\n",
    "print(r)"
   ]
  },
  {
   "cell_type": "code",
   "execution_count": 22,
   "metadata": {},
   "outputs": [],
   "source": [
    "toolbox = base.Toolbox()\n",
    "# Attribute generator \n",
    "toolbox.register(\"attr_bool\", randomSensor, sensor_dict)\n",
    "# Structure initializers\n",
    "toolbox.register(\"individual\", tools.initRepeat, creator.Individual, \n",
    "    toolbox.attr_bool, 8)\n",
    "toolbox.register(\"population\", tools.initRepeat, list, toolbox.individual)"
   ]
  },
  {
   "cell_type": "code",
   "execution_count": 23,
   "metadata": {},
   "outputs": [
    {
     "data": {
      "text/plain": [
       "67"
      ]
     },
     "execution_count": 23,
     "metadata": {},
     "output_type": "execute_result"
    }
   ],
   "source": [
    "toolbox.attr_bool()"
   ]
  },
  {
   "cell_type": "code",
   "execution_count": 24,
   "metadata": {},
   "outputs": [
    {
     "data": {
      "text/plain": [
       "[220, 142, 47, 69, 11, 93, 223, 66]"
      ]
     },
     "execution_count": 24,
     "metadata": {},
     "output_type": "execute_result"
    }
   ],
   "source": [
    "toolbox.individual()"
   ]
  },
  {
   "cell_type": "code",
   "execution_count": 25,
   "metadata": {
    "scrolled": true
   },
   "outputs": [
    {
     "data": {
      "text/plain": [
       "[[207, 155, 190, 158, 97, 22, 221, 186],\n",
       " [79, 51, 58, 117, 72, 36, 24, 33],\n",
       " [20, 68, 182, 168, 170, 133, 120, 29],\n",
       " [9, 181, 22, 70, 112, 127, 119, 118],\n",
       " [70, 104, 140, 124, 102, 103, 173, 96],\n",
       " [90, 113, 103, 51, 142, 120, 11, 160],\n",
       " [182, 30, 165, 108, 215, 134, 96, 33],\n",
       " [2, 139, 65, 185, 76, 166, 39, 60],\n",
       " [108, 24, 44, 13, 97, 178, 152, 68],\n",
       " [58, 21, 33, 20, 208, 62, 104, 46],\n",
       " [125, 109, 184, 165, 124, 87, 129, 84],\n",
       " [63, 45, 34, 200, 149, 222, 56, 2],\n",
       " [180, 209, 16, 46, 92, 107, 145, 188],\n",
       " [170, 210, 67, 179, 33, 202, 76, 168],\n",
       " [144, 213, 170, 207, 157, 177, 78, 185],\n",
       " [18, 108, 81, 185, 61, 10, 51, 16],\n",
       " [11, 211, 198, 58, 172, 50, 52, 1],\n",
       " [209, 81, 153, 4, 89, 132, 48, 194],\n",
       " [70, 113, 11, 148, 192, 174, 189, 51],\n",
       " [157, 200, 183, 56, 183, 100, 24, 169],\n",
       " [83, 182, 80, 97, 182, 10, 72, 211],\n",
       " [99, 58, 103, 131, 188, 66, 76, 81],\n",
       " [104, 80, 110, 58, 121, 153, 181, 172],\n",
       " [99, 53, 217, 18, 139, 75, 101, 119],\n",
       " [144, 188, 152, 194, 206, 195, 128, 40],\n",
       " [93, 99, 15, 142, 210, 45, 223, 195],\n",
       " [195, 217, 98, 51, 203, 177, 62, 45],\n",
       " [169, 107, 147, 13, 147, 138, 39, 181],\n",
       " [77, 39, 66, 171, 136, 36, 18, 170],\n",
       " [77, 163, 127, 135, 68, 149, 64, 24]]"
      ]
     },
     "execution_count": 25,
     "metadata": {},
     "output_type": "execute_result"
    }
   ],
   "source": [
    "toolbox.population(n=30)"
   ]
  },
  {
   "cell_type": "markdown",
   "metadata": {},
   "source": [
    "# Evaluation (Fitness) Function"
   ]
  },
  {
   "cell_type": "code",
   "execution_count": 26,
   "metadata": {},
   "outputs": [],
   "source": [
    "from data.RayIntersectsTriangle import rayIntersectsTriangle,rayIntersectsTriangleVisualization\n",
    "\n",
    "def FitnessFunction(sensors):\n",
    "    \n",
    "    #print(sensors)\n",
    "    #print(sensor_dict)\n",
    "    \n",
    "    #1. COMPUTE VISIBLE SENSORS AT THE MOMENT\n",
    "    LH1_array = np.asarray(LH1[0])\n",
    "    LH2_array = np.asarray(LH2[0])\n",
    "    #testTriangle = np.squeeze(np.asarray(triangles[0]))\n",
    "\n",
    "    visibleLH1 = 0\n",
    "    visibleLH2 = 0\n",
    "\n",
    "    for i, nmbr_sensor in enumerate(sensors):\n",
    "        #print(nmbr_sensor)\n",
    "        sensor = sensor_dict[nmbr_sensor][1]\n",
    "        #print(sensor)\n",
    "        #get distance of current sensor and check if intersection\n",
    "        interDistLH1 = rayIntersectsTriangle(LH1_array, sensor, \n",
    "                                             np.squeeze(np.asarray(triangles[i])), 'lighthouse1')\n",
    "        interDistLH2 = rayIntersectsTriangle(LH2_array, sensor, \n",
    "                                             np.squeeze(np.asarray(triangles[i])), 'lighthouse2')\n",
    "        #print(interDistLH1)\n",
    "        #print(interDistLH2)\n",
    "\n",
    "        for j in range(len(triangles)):\n",
    "            if(i != j):\n",
    "                #print(j)\n",
    "                newInterDistLH1 = rayIntersectsTriangle(LH1_array, sensor, \n",
    "                                                        np.squeeze(np.asarray(triangles[j])), 'lighthouse1')\n",
    "                newInterDistLH2 = rayIntersectsTriangle(LH2_array, sensor, \n",
    "                                                        np.squeeze(np.asarray(triangles[j])), 'lighthouse2')\n",
    "                if(newInterDistLH1 > interDistLH1 and newInterDistLH1 != False):\n",
    "                    interDistLH1 = newInterDistLH1\n",
    "                    visibleLH1 += 1\n",
    "\n",
    "                if(newInterDistLH2 > interDistLH2 and newInterDistLH2 != False):\n",
    "                    interDistLH2 = newInterDistLH2\n",
    "                    visibleLH2 += 1\n",
    "    \n",
    "    #2. COMPUTE EUCLIDEAN DISTANCE OF SENSORS\n",
    "    individual = sensors\n",
    "    dist = 0\n",
    "    for i,ind in enumerate(individual):\n",
    "        ind = np.asarray(sensor_dict[ind][1])\n",
    "        for j in range(i,len(individual)):\n",
    "            if(i != j):\n",
    "                indivi = np.asarray(sensor_dict[individual[j]][1])\n",
    "                dist += np.linalg.norm(ind-indivi)\n",
    "    \n",
    "    #print(visibleLH1);print(visibleLH2);print('')\n",
    "    \n",
    "    return dist, visibleLH1, visibleLH2"
   ]
  },
  {
   "cell_type": "code",
   "execution_count": 27,
   "metadata": {},
   "outputs": [],
   "source": [
    "toolbox.register(\"evaluate\", FitnessFunction)\n",
    "\n",
    "toolbox.register(\"mate\", tools.cxTwoPoint)\n",
    "# Independent probability  : for each attribute to be mutated.# low~up rondom int\n",
    "toolbox.register(\"mutate\", tools.mutUniformInt, low=0, up=len(sensorList)-1, indpb=0.2) \n",
    "toolbox.register(\"select\", tools.selTournament, tournsize=3)"
   ]
  },
  {
   "cell_type": "code",
   "execution_count": 28,
   "metadata": {},
   "outputs": [],
   "source": [
    "# Creating population\n",
    "\n",
    "population = toolbox.population(n=10)"
   ]
  },
  {
   "cell_type": "code",
   "execution_count": 29,
   "metadata": {},
   "outputs": [],
   "source": [
    "hof = tools.HallOfFame(1)"
   ]
  },
  {
   "cell_type": "code",
   "execution_count": 30,
   "metadata": {},
   "outputs": [],
   "source": [
    "stats = tools.Statistics(lambda ind: ind.fitness.values)\n",
    "stats.register(\"avg\", np.mean)\n",
    "stats.register(\"std\", np.std)\n",
    "stats.register(\"min\", np.min)\n",
    "stats.register(\"max\", np.max)"
   ]
  },
  {
   "cell_type": "code",
   "execution_count": 31,
   "metadata": {
    "scrolled": true
   },
   "outputs": [
    {
     "name": "stdout",
     "output_type": "stream",
     "text": [
      "gen\tnevals\tavg    \tstd    \tmin    \tmax\n",
      "0  \t10    \t9.76279\t4.36544\t3.14608\t14 \n",
      "1  \t4     \t9.5039 \t4.12672\t3.5003 \t14 \n",
      "2  \t9     \t9.54814\t4.1513 \t3.52724\t15 \n",
      "3  \t9     \t9.36229\t3.93138\t3.57215\t13 \n",
      "4  \t4     \t9.32415\t3.88564\t3.60492\t13 \n",
      "5  \t8     \t9.30737\t3.86065\t3.59598\t13 \n",
      "6  \t5     \t9.22003\t3.77517\t3.90884\t13 \n",
      "7  \t4     \t9.28418\t3.79191\t3.86222\t13 \n",
      "8  \t9     \t9.33864\t3.86484\t3.68643\t13 \n",
      "9  \t5     \t9.34843\t3.82496\t3.7304 \t13 \n",
      "10 \t6     \t9.39044\t3.83972\t3.96918\t13 \n",
      "11 \t6     \t9.45627\t3.91104\t3.92146\t14 \n",
      "12 \t7     \t9.69473\t4.09112\t3.92077\t14 \n",
      "13 \t8     \t9.93486\t4.20053\t3.98168\t13 \n",
      "14 \t5     \t9.9087 \t4.16988\t3.98918\t13 \n",
      "15 \t8     \t9.96257\t4.25255\t3.78402\t14 \n",
      "16 \t6     \t9.94132\t4.21532\t3.88307\t14 \n"
     ]
    },
    {
     "ename": "KeyboardInterrupt",
     "evalue": "",
     "output_type": "error",
     "traceback": [
      "\u001b[0;31m---------------------------------------------------------------------------\u001b[0m",
      "\u001b[0;31mKeyboardInterrupt\u001b[0m                         Traceback (most recent call last)",
      "\u001b[0;32m<ipython-input-31-392c24293007>\u001b[0m in \u001b[0;36m<module>\u001b[0;34m()\u001b[0m\n\u001b[1;32m      6\u001b[0m                                       \u001b[0mstats\u001b[0m\u001b[0;34m=\u001b[0m\u001b[0mstats\u001b[0m\u001b[0;34m,\u001b[0m\u001b[0;34m\u001b[0m\u001b[0m\n\u001b[1;32m      7\u001b[0m                                       \u001b[0mhalloffame\u001b[0m\u001b[0;34m=\u001b[0m\u001b[0mhof\u001b[0m\u001b[0;34m,\u001b[0m\u001b[0;34m\u001b[0m\u001b[0m\n\u001b[0;32m----> 8\u001b[0;31m                                       verbose=True)\n\u001b[0m",
      "\u001b[0;32m/usr/local/lib/python2.7/dist-packages/deap/algorithms.pyc\u001b[0m in \u001b[0;36meaSimple\u001b[0;34m(population, toolbox, cxpb, mutpb, ngen, stats, halloffame, verbose)\u001b[0m\n\u001b[1;32m    170\u001b[0m         \u001b[0;31m# Evaluate the individuals with an invalid fitness\u001b[0m\u001b[0;34m\u001b[0m\u001b[0;34m\u001b[0m\u001b[0m\n\u001b[1;32m    171\u001b[0m         \u001b[0minvalid_ind\u001b[0m \u001b[0;34m=\u001b[0m \u001b[0;34m[\u001b[0m\u001b[0mind\u001b[0m \u001b[0;32mfor\u001b[0m \u001b[0mind\u001b[0m \u001b[0;32min\u001b[0m \u001b[0moffspring\u001b[0m \u001b[0;32mif\u001b[0m \u001b[0;32mnot\u001b[0m \u001b[0mind\u001b[0m\u001b[0;34m.\u001b[0m\u001b[0mfitness\u001b[0m\u001b[0;34m.\u001b[0m\u001b[0mvalid\u001b[0m\u001b[0;34m]\u001b[0m\u001b[0;34m\u001b[0m\u001b[0m\n\u001b[0;32m--> 172\u001b[0;31m         \u001b[0mfitnesses\u001b[0m \u001b[0;34m=\u001b[0m \u001b[0mtoolbox\u001b[0m\u001b[0;34m.\u001b[0m\u001b[0mmap\u001b[0m\u001b[0;34m(\u001b[0m\u001b[0mtoolbox\u001b[0m\u001b[0;34m.\u001b[0m\u001b[0mevaluate\u001b[0m\u001b[0;34m,\u001b[0m \u001b[0minvalid_ind\u001b[0m\u001b[0;34m)\u001b[0m\u001b[0;34m\u001b[0m\u001b[0m\n\u001b[0m\u001b[1;32m    173\u001b[0m         \u001b[0;32mfor\u001b[0m \u001b[0mind\u001b[0m\u001b[0;34m,\u001b[0m \u001b[0mfit\u001b[0m \u001b[0;32min\u001b[0m \u001b[0mzip\u001b[0m\u001b[0;34m(\u001b[0m\u001b[0minvalid_ind\u001b[0m\u001b[0;34m,\u001b[0m \u001b[0mfitnesses\u001b[0m\u001b[0;34m)\u001b[0m\u001b[0;34m:\u001b[0m\u001b[0;34m\u001b[0m\u001b[0m\n\u001b[1;32m    174\u001b[0m             \u001b[0mind\u001b[0m\u001b[0;34m.\u001b[0m\u001b[0mfitness\u001b[0m\u001b[0;34m.\u001b[0m\u001b[0mvalues\u001b[0m \u001b[0;34m=\u001b[0m \u001b[0mfit\u001b[0m\u001b[0;34m\u001b[0m\u001b[0m\n",
      "\u001b[0;32m<ipython-input-26-60a7056448fa>\u001b[0m in \u001b[0;36mFitnessFunction\u001b[0;34m(sensors)\u001b[0m\n\u001b[1;32m     30\u001b[0m                 \u001b[0;31m#print(j)\u001b[0m\u001b[0;34m\u001b[0m\u001b[0;34m\u001b[0m\u001b[0m\n\u001b[1;32m     31\u001b[0m                 newInterDistLH1 = rayIntersectsTriangle(LH1_array, sensor, \n\u001b[0;32m---> 32\u001b[0;31m                                                         np.squeeze(np.asarray(triangles[j])), 'lighthouse1')\n\u001b[0m\u001b[1;32m     33\u001b[0m                 newInterDistLH2 = rayIntersectsTriangle(LH2_array, sensor, \n\u001b[1;32m     34\u001b[0m                                                         np.squeeze(np.asarray(triangles[j])), 'lighthouse2')\n",
      "\u001b[0;32m/home/nwesem/ROS/stl/data/RayIntersectsTriangle.py\u001b[0m in \u001b[0;36mrayIntersectsTriangle\u001b[0;34m(origin, sensor, tri, LH_CSframe)\u001b[0m\n\u001b[1;32m    117\u001b[0m     \u001b[0;31m#print(v0); print(v1); print(v2); print(e1); print(e2)\u001b[0m\u001b[0;34m\u001b[0m\u001b[0;34m\u001b[0m\u001b[0m\n\u001b[1;32m    118\u001b[0m \u001b[0;34m\u001b[0m\u001b[0m\n\u001b[0;32m--> 119\u001b[0;31m     \u001b[0mh\u001b[0m \u001b[0;34m=\u001b[0m \u001b[0mnp\u001b[0m\u001b[0;34m.\u001b[0m\u001b[0mcross\u001b[0m\u001b[0;34m(\u001b[0m\u001b[0mray\u001b[0m\u001b[0;34m,\u001b[0m \u001b[0me2\u001b[0m\u001b[0;34m)\u001b[0m\u001b[0;34m\u001b[0m\u001b[0m\n\u001b[0m\u001b[1;32m    120\u001b[0m \u001b[0;34m\u001b[0m\u001b[0m\n\u001b[1;32m    121\u001b[0m     \u001b[0ma\u001b[0m \u001b[0;34m=\u001b[0m \u001b[0me1\u001b[0m\u001b[0;34m.\u001b[0m\u001b[0mdot\u001b[0m\u001b[0;34m(\u001b[0m\u001b[0mh\u001b[0m\u001b[0;34m)\u001b[0m\u001b[0;34m\u001b[0m\u001b[0m\n",
      "\u001b[0;32m/usr/lib/python2.7/dist-packages/numpy/core/numeric.pyc\u001b[0m in \u001b[0;36mcross\u001b[0;34m(a, b, axisa, axisb, axisc, axis)\u001b[0m\n\u001b[1;32m   1703\u001b[0m     \u001b[0;32mif\u001b[0m \u001b[0mcp\u001b[0m\u001b[0;34m.\u001b[0m\u001b[0mndim\u001b[0m \u001b[0;34m!=\u001b[0m \u001b[0;36m0\u001b[0m \u001b[0;32mand\u001b[0m \u001b[0mcp\u001b[0m\u001b[0;34m.\u001b[0m\u001b[0mshape\u001b[0m\u001b[0;34m[\u001b[0m\u001b[0;34m-\u001b[0m\u001b[0;36m1\u001b[0m\u001b[0;34m]\u001b[0m \u001b[0;34m==\u001b[0m \u001b[0;36m3\u001b[0m\u001b[0;34m:\u001b[0m\u001b[0;34m\u001b[0m\u001b[0m\n\u001b[1;32m   1704\u001b[0m         \u001b[0mcp0\u001b[0m \u001b[0;34m=\u001b[0m \u001b[0mcp\u001b[0m\u001b[0;34m[\u001b[0m\u001b[0;34m.\u001b[0m\u001b[0;34m.\u001b[0m\u001b[0;34m.\u001b[0m\u001b[0;34m,\u001b[0m \u001b[0;36m0\u001b[0m\u001b[0;34m]\u001b[0m\u001b[0;34m\u001b[0m\u001b[0m\n\u001b[0;32m-> 1705\u001b[0;31m         \u001b[0mcp1\u001b[0m \u001b[0;34m=\u001b[0m \u001b[0mcp\u001b[0m\u001b[0;34m[\u001b[0m\u001b[0;34m.\u001b[0m\u001b[0;34m.\u001b[0m\u001b[0;34m.\u001b[0m\u001b[0;34m,\u001b[0m \u001b[0;36m1\u001b[0m\u001b[0;34m]\u001b[0m\u001b[0;34m\u001b[0m\u001b[0m\n\u001b[0m\u001b[1;32m   1706\u001b[0m         \u001b[0mcp2\u001b[0m \u001b[0;34m=\u001b[0m \u001b[0mcp\u001b[0m\u001b[0;34m[\u001b[0m\u001b[0;34m.\u001b[0m\u001b[0;34m.\u001b[0m\u001b[0;34m.\u001b[0m\u001b[0;34m,\u001b[0m \u001b[0;36m2\u001b[0m\u001b[0;34m]\u001b[0m\u001b[0;34m\u001b[0m\u001b[0m\n\u001b[1;32m   1707\u001b[0m \u001b[0;34m\u001b[0m\u001b[0m\n",
      "\u001b[0;31mKeyboardInterrupt\u001b[0m: "
     ]
    }
   ],
   "source": [
    "population, log = algorithms.eaSimple(population, \n",
    "                                      toolbox, \n",
    "                                      cxpb=0.5, \n",
    "                                      mutpb=0.2, \n",
    "                                      ngen=1000, \n",
    "                                      stats=stats, \n",
    "                                      halloffame=hof, \n",
    "                                      verbose=True)"
   ]
  },
  {
   "cell_type": "code",
   "execution_count": null,
   "metadata": {},
   "outputs": [],
   "source": [
    "best_sensors = tools.selBest(population, k=1)[0]\n",
    "print(best_sensors)"
   ]
  },
  {
   "cell_type": "code",
   "execution_count": null,
   "metadata": {
    "scrolled": false
   },
   "outputs": [],
   "source": [
    "#Sensor visualization in RVIZ\n",
    "\n",
    "for i, best in enumerate(best_sensors):\n",
    "\n",
    "    show_sensor = sensor_dict[best][1]\n",
    "    \n",
    "    \n",
    "    \n",
    "    rate3 = rospy.Rate(10)\n",
    "    while not rospy.is_shutdown():\n",
    "\n",
    "        markers = Marker()\n",
    "        markers.header.frame_id = 'world'\n",
    "        markers.ns = 'ns'\n",
    "        markers.type = Marker.SPHERE\n",
    "\n",
    "        markers.pose.position.x = show_sensor[0];\n",
    "        markers.pose.position.y = show_sensor[1];\n",
    "        markers.pose.position.z = show_sensor[2];\n",
    "        markers.pose.orientation.x = 0\n",
    "        markers.pose.orientation.y = 0\n",
    "        markers.pose.orientation.z = 0\n",
    "        markers.pose.orientation.w = 0\n",
    "\n",
    "        #print(marker.points)\n",
    "        markers.color.r = 1.0\n",
    "        markers.color.g = 0.0\n",
    "        markers.color.b = 0.0\n",
    "        markers.color.a = 1.0\n",
    "\n",
    "        markers.scale.x = 0.015\n",
    "        markers.scale.y = 0.015\n",
    "        markers.scale.z = 0.015\n",
    "        markers.lifetime = rospy.Duration(-1);\n",
    "        markers.header.stamp = rospy.Time.now()\n",
    "        markers.action = Marker.ADD\n",
    "        markers.id = 100+i\n",
    "\n",
    "        #mesh.mesh_resource = \"package://common_utilities/stls/testcube_40mm.stl\"\n",
    "        #mesh.mesh_resource = \"package://roboy_models/roboy_2_0_simplified/meshes/CAD/head.stl\"\n",
    "\n",
    "        publisher.publish(markers);\n",
    "        rate3.sleep()\n",
    "        break\n"
   ]
  }
 ],
 "metadata": {
  "kernelspec": {
   "display_name": "Python 2",
   "language": "python",
   "name": "python2"
  },
  "language_info": {
   "codemirror_mode": {
    "name": "ipython",
    "version": 2
   },
   "file_extension": ".py",
   "mimetype": "text/x-python",
   "name": "python",
   "nbconvert_exporter": "python",
   "pygments_lexer": "ipython2",
   "version": "2.7.12"
  }
 },
 "nbformat": 4,
 "nbformat_minor": 2
}
