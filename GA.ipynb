{
 "cells": [
  {
   "cell_type": "markdown",
   "metadata": {},
   "source": [
    "# Genetic algo for lighthouse sensor distribution on arbitrary mesh"
   ]
  },
  {
   "cell_type": "code",
   "execution_count": 1,
   "metadata": {
    "scrolled": true
   },
   "outputs": [],
   "source": [
    "import numpy as np\n",
    "from stl import mesh as meshstl\n",
    "from mpl_toolkits import mplot3d\n",
    "import matplotlib.pyplot as plt\n",
    "from data.plotmesh import plot_mesh\n",
    "import math\n",
    "import random\n",
    "from pyquaternion import Quaternion\n",
    "from scipy.linalg import qr\n",
    "import roslib\n",
    "import rospy\n",
    "import math\n",
    "import tf\n",
    "rospy.init_node('fixed_tf_broadcaster')"
   ]
  },
  {
   "cell_type": "code",
   "execution_count": 2,
   "metadata": {},
   "outputs": [],
   "source": [
    "#how many sensors would u like to distribute?\n",
    "sensorsToDistribute = 10\n",
    "stl_file = 'roboy_models/TestCube/stls/IcoSphere_360.stl'"
   ]
  },
  {
   "cell_type": "code",
   "execution_count": 3,
   "metadata": {
    "scrolled": true
   },
   "outputs": [
    {
     "name": "stdout",
     "output_type": "stream",
     "text": [
      "([-2.0, 0, 2.0], Quaternion(0.70710678118654757, -0.0, -0.0, -0.70710678118654746))\n",
      "([2, 0.0, 2.0], Quaternion(0.70710678118654757, 0.0, 0.0, 0.70710678118654746))\n"
     ]
    }
   ],
   "source": [
    "#Move Lighthouses to\n",
    "translationLH1 = [-2.,0,2.]\n",
    "quat1 = Quaternion(axis=[0,0,1],angle=-np.pi / 2)\n",
    "\n",
    "global LH1 \n",
    "LH1 = (translationLH1, quat1)\n",
    "\n",
    "translationLH2 = [2,0.,2.]\n",
    "quat2 = Quaternion(axis=[0,0,1], angle=np.pi / 2)\n",
    "\n",
    "global LH2\n",
    "LH2 = (translationLH2, quat2)\n",
    "\n",
    "print(LH1); print(LH2)"
   ]
  },
  {
   "cell_type": "code",
   "execution_count": 4,
   "metadata": {},
   "outputs": [],
   "source": [
    "from data.rvizMeshVis import meshVisualization\n",
    "\n",
    "scale = 0.01\n",
    "position = [0,0,0]\n",
    "global orientationMesh\n",
    "orientationMesh = Quaternion(axis=(1,0,0),angle = np.pi*0)\n",
    "\n",
    "meshVisualization(orientationMesh, stl_file)"
   ]
  },
  {
   "cell_type": "code",
   "execution_count": null,
   "metadata": {},
   "outputs": [],
   "source": []
  },
  {
   "cell_type": "markdown",
   "metadata": {},
   "source": [
    "# Preprocess data"
   ]
  },
  {
   "cell_type": "code",
   "execution_count": 5,
   "metadata": {
    "scrolled": true
   },
   "outputs": [
    {
     "name": "stdout",
     "output_type": "stream",
     "text": [
      "484 triangles\n",
      "\n",
      "1452 vertices\n",
      "\n",
      "484 sensors in centers of triangles\n"
     ]
    }
   ],
   "source": [
    "from data.trisByDistance import *\n",
    "\n",
    "#Get mesh vertices and normals\n",
    "mesh1 = meshstl.Mesh.from_file(('../'+ stl_file))\n",
    "#mesh1 = meshstl.Mesh.from_file('../src/roboy_models/roboy_2_0_simplified/meshes/CAD/torso.stl')\n",
    "\n",
    "global triangles\n",
    "triangles = scale * np.matrix(mesh1.points)\n",
    "\n",
    "global trianglesBackup\n",
    "trianglesBackup = triangles\n",
    "\n",
    "global sortedTriangles\n",
    "\n",
    "lighthouses = [LH1, LH2]\n",
    "sortedTriangles = []\n",
    "\n",
    "\n",
    "\n",
    "for l in lighthouses:\n",
    "    tris = trisByMinDistanceSortedMap(triangles, l[0])\n",
    "    sortedTriangles.append(tris)\n",
    "\n",
    "\n",
    "#for (j, dist) in sortedTriangles[1]:\n",
    "#    print(\"Triangle %i %f\" % (j, dist))\n",
    "\n",
    "vertices = np.reshape(triangles,(len(triangles)*3,3)) \n",
    "\n",
    "#Initialize sensors in centers of triangle\n",
    "sensors = (triangles[:,0:3]+triangles[:,3:6]+triangles[:,6:9])/3\n",
    "\n",
    "print('%d triangles' %len(triangles))\n",
    "print('')\n",
    "print('%d vertices' %len(vertices))\n",
    "print('')\n",
    "print('%d sensors in centers of triangles' %len(sensors))"
   ]
  },
  {
   "cell_type": "code",
   "execution_count": null,
   "metadata": {},
   "outputs": [],
   "source": []
  },
  {
   "cell_type": "markdown",
   "metadata": {},
   "source": [
    "# GA"
   ]
  },
  {
   "cell_type": "code",
   "execution_count": 6,
   "metadata": {
    "scrolled": true
   },
   "outputs": [],
   "source": [
    "from deap import algorithms, base, creator, tools"
   ]
  },
  {
   "cell_type": "code",
   "execution_count": 7,
   "metadata": {
    "scrolled": false
   },
   "outputs": [],
   "source": [
    "#sensors to dict\n",
    "global sensor_dict\n",
    "sensor_dict =  list(zip(range(len(sensors)), sensors.tolist()))\n",
    "\n",
    "global sensorDictBackup\n",
    "sensorDictBackup = sensor_dict\n"
   ]
  },
  {
   "cell_type": "code",
   "execution_count": 8,
   "metadata": {},
   "outputs": [],
   "source": [
    "from data.rvizSensorVis import sensorVisualization\n",
    "\n",
    "#color = (r,g,b,a)\n",
    "sensorVisualization(sensor_dict, rate=500, sphereSize=0.03, color=(0,0,1,1))"
   ]
  },
  {
   "cell_type": "code",
   "execution_count": 9,
   "metadata": {},
   "outputs": [],
   "source": [
    "creator.create(\"FitnessMax\", base.Fitness, weights=(1.0,1.0)) # 1 -> maximum probblem\n",
    "creator.create(\"Individual\", list, fitness=creator.FitnessMax)"
   ]
  },
  {
   "cell_type": "code",
   "execution_count": 10,
   "metadata": {},
   "outputs": [],
   "source": [
    "toolbox = base.Toolbox()"
   ]
  },
  {
   "cell_type": "code",
   "execution_count": 11,
   "metadata": {},
   "outputs": [],
   "source": [
    "from data.randomSensor import randomSensor\n",
    "\n",
    "toolbox = base.Toolbox()\n",
    "# Attribute generator \n",
    "toolbox.register(\"attr_bool\", randomSensor, sensor_dict)\n",
    "# Structure initializers\n",
    "toolbox.register(\"individual\", tools.initRepeat, creator.Individual, \n",
    "    toolbox.attr_bool, sensorsToDistribute)\n",
    "toolbox.register(\"population\", tools.initRepeat, list, toolbox.individual)"
   ]
  },
  {
   "cell_type": "code",
   "execution_count": 12,
   "metadata": {},
   "outputs": [
    {
     "data": {
      "text/plain": [
       "451"
      ]
     },
     "execution_count": 12,
     "metadata": {},
     "output_type": "execute_result"
    }
   ],
   "source": [
    "toolbox.attr_bool()"
   ]
  },
  {
   "cell_type": "code",
   "execution_count": 13,
   "metadata": {},
   "outputs": [
    {
     "data": {
      "text/plain": [
       "[244, 383, 82, 34, 199, 71, 232, 143, 6, 28]"
      ]
     },
     "execution_count": 13,
     "metadata": {},
     "output_type": "execute_result"
    }
   ],
   "source": [
    "toolbox.individual()"
   ]
  },
  {
   "cell_type": "markdown",
   "metadata": {},
   "source": [
    "# Evaluation (Fitness) Function"
   ]
  },
  {
   "cell_type": "code",
   "execution_count": 14,
   "metadata": {},
   "outputs": [],
   "source": [
    "from data.RayIntersectsTriangle import rayIntersectsTriangle, rayIntersectsTriangleVisual\n",
    "\n",
    "def FitnessFunction(sensors):\n",
    "    \n",
    "    br = tf.TransformBroadcaster()\n",
    "    br.sendTransform((LH1[0][0], LH1[0][1], LH1[0][2]),\n",
    "                     (quat1[0], quat1[1], quat1[2], quat1[3]),\n",
    "                     rospy.Time.now(),\n",
    "                     \"lighthouse1\",\n",
    "                     \"world\")\n",
    "    br.sendTransform((LH2[0][0], LH2[0][1], LH2[0][2]),\n",
    "                     (quat2[0], quat2[1], quat2[2], quat2[3]),\n",
    "                     rospy.Time.now(),\n",
    "                     \"lighthouse2\",\n",
    "                     \"world\")\n",
    "\n",
    "    \n",
    "    #1. COMPUTE VISIBLE SENSORS AT THE MOMENT\n",
    "    LH1_array = np.asarray(LH1[0])\n",
    "    LH2_array = np.asarray(LH2[0])\n",
    "    #testTriangle = np.squeeze(np.asarray(triangles[0]))\n",
    "\n",
    "    visibleLH1 = 0\n",
    "    visibleLH2 = 0\n",
    "    \n",
    "\n",
    "    for i, nmbr_sensor in enumerate(sensors):\n",
    "        sensor = sensor_dict[nmbr_sensor][1]\n",
    "\n",
    "        #get distance of current sensor and check if intersection\n",
    "        interDistLH1 = rayIntersectsTriangle(LH1_array, sensor, \n",
    "                                             np.squeeze(np.asarray(triangles[nmbr_sensor])), 'lighthouse1')\n",
    "        distLH1 = np.linalg.norm(np.asarray(sensor) - LH1_array)\n",
    "        interDistLH2 = rayIntersectsTriangle(LH2_array, sensor, \n",
    "                                             np.squeeze(np.asarray(triangles[nmbr_sensor])), 'lighthouse2')\n",
    "        distLH2 = np.linalg.norm(np.asarray(sensor) - LH2_array)\n",
    "        \n",
    "        #print('interDist');print(interDistLH1);print(interDistLH2);print('endinterDist')\n",
    "\n",
    "        isVisible1 = True\n",
    "        isVisible2 = True\n",
    "        \n",
    "        \n",
    "        # 1st lighthouse\n",
    "        for (j, dist) in sortedTriangles[0]:\n",
    "            if(nmbr_sensor != j):\n",
    "                #print(\"Testing sensor %i vs tris %i: distance of Sensor %f vs triangle %f\" % (i, j, distLH1, dist))\n",
    "                tris = triangles[j]\n",
    "                newInterDistLH1 = rayIntersectsTriangle(LH1_array, sensor, \n",
    "                                                    np.squeeze(np.asarray(tris)), 'lighthouse1')#,j)\n",
    "                if(newInterDistLH1 < interDistLH1 and newInterDistLH1 != False):\n",
    "                    isVisible1 = False\n",
    "                if(not isVisible1 or dist > distLH1):\n",
    "                    # Break if not visible or already checked all tris\n",
    "                    # that are located closer to the lighthouse that the sensor\n",
    "                    break\n",
    "                    \n",
    "        # 2nd lighthouse\n",
    "        for (j, dist) in sortedTriangles[1]:\n",
    "            if(nmbr_sensor != j):\n",
    "                tris = triangles[j]\n",
    "                newInterDistLH2 = rayIntersectsTriangle(LH2_array, sensor, \n",
    "                                                    np.squeeze(np.asarray(tris)), 'lighthouse2')#,j)\n",
    "                if(newInterDistLH2 < interDistLH2 and newInterDistLH2 != False):\n",
    "                    isVisible2 = False\n",
    "                if(not isVisible2 or dist > distLH2):\n",
    "                    # Break if not visible or already checked all tris\n",
    "                    # that are located closer to the lighthouse that the sensor\n",
    "                    break\n",
    "        \n",
    "        if(isVisible1):\n",
    "            visibleLH1 += 1\n",
    "        if(isVisible2):\n",
    "            visibleLH2 += 1\n",
    "        #print(newInterDistLH1); print(newInterDistLH2)\n",
    "    \n",
    "    fractionVisibleLH1 = float(visibleLH1) / sensorsToDistribute\n",
    "    fractionVisibleLH2 = float(visibleLH2) / sensorsToDistribute\n",
    "        \n",
    "    #2. COMPUTE EUCLIDEAN DISTANCE OF SENSORS\n",
    "    individual = sensors\n",
    "    dist = 0\n",
    "    for i,ind in enumerate(individual):\n",
    "        ind = np.asarray(sensor_dict[ind][1])\n",
    "        for j in range(i,len(individual)):\n",
    "            if(i != j):\n",
    "                indivi = np.asarray(sensor_dict[individual[j]][1])\n",
    "                dist += np.linalg.norm(ind-indivi)\n",
    "\n",
    "    #print(visibleLH1);print(visibleLH2);print('')\n",
    "    \n",
    "    return fractionVisibleLH1, fractionVisibleLH2"
   ]
  },
  {
   "cell_type": "code",
   "execution_count": 15,
   "metadata": {},
   "outputs": [],
   "source": [
    "toolbox.register(\"evaluate\", FitnessFunction)\n",
    "\n",
    "toolbox.register(\"mate\", tools.cxTwoPoint)\n",
    "# Independent probability  : for each attribute to be mutated.# low~up rondom int\n",
    "toolbox.register(\"mutate\", tools.mutUniformInt, low=0, up=len(sensors.tolist())-1, indpb=0.2) \n",
    "toolbox.register(\"select\", tools.selTournament, tournsize=3)"
   ]
  },
  {
   "cell_type": "code",
   "execution_count": 16,
   "metadata": {},
   "outputs": [],
   "source": [
    "# Creating population\n",
    "\n",
    "population = toolbox.population(n=10)"
   ]
  },
  {
   "cell_type": "code",
   "execution_count": 17,
   "metadata": {},
   "outputs": [],
   "source": [
    "hof = tools.HallOfFame(1)"
   ]
  },
  {
   "cell_type": "code",
   "execution_count": 18,
   "metadata": {},
   "outputs": [],
   "source": [
    "stats = tools.Statistics(lambda ind: ind.fitness.values)\n",
    "stats.register(\"avg\", np.mean)\n",
    "stats.register(\"std\", np.std)\n",
    "stats.register(\"min\", np.min)\n",
    "stats.register(\"max\", np.max)"
   ]
  },
  {
   "cell_type": "code",
   "execution_count": 19,
   "metadata": {
    "scrolled": false
   },
   "outputs": [],
   "source": [
    "from data.algorithmsMod import varAnd\n",
    "from deap import tools\n",
    "from data.trafomatrix import getRandomRotationmatrix\n",
    "from data.bestSensorVis import bestSensorVis\n",
    "\n",
    "#MODDED VERSION of eaSimple from DEAP\n",
    "def eaSimpleMod(population, toolbox, cxpb, mutpb, ngen, stats=None,\n",
    "             halloffame=None, verbose=__debug__):\n",
    "    \"\"\"This algorithm reproduce the simplest evolutionary algorithm as\n",
    "    presented in chapter 7 of [Back2000]_.\n",
    "\n",
    "    :param population: A list of individuals.\n",
    "    :param toolbox: A :class:`~deap.base.Toolbox` that contains the evolution\n",
    "                    operators.\n",
    "    :param cxpb: The probability of mating two individuals.\n",
    "    :param mutpb: The probability of mutating an individual.\n",
    "    :param ngen: The number of generation.\n",
    "    :param stats: A :class:`~deap.tools.Statistics` object that is updated\n",
    "                  inplace, optional.\n",
    "    :param halloffame: A :class:`~deap.tools.HallOfFame` object that will\n",
    "                       contain the best individuals, optional.\n",
    "    :param verbose: Whether or not to log the statistics.\n",
    "    :returns: The final population\n",
    "    :returns: A class:`~deap.tools.Logbook` with the statistics of the\n",
    "              evolution\n",
    "\n",
    "    The algorithm takes in a population and evolves it in place using the\n",
    "    :meth:`varAnd` method. It returns the optimized population and a\n",
    "    :class:`~deap.tools.Logbook` with the statistics of the evolution. The\n",
    "    logbook will contain the generation number, the number of evalutions for\n",
    "    each generation and the statistics if a :class:`~deap.tools.Statistics` is\n",
    "    given as argument. The *cxpb* and *mutpb* arguments are passed to the\n",
    "    :func:`varAnd` function. The pseudocode goes as follow ::\n",
    "\n",
    "        evaluate(population)\n",
    "        for g in range(ngen):\n",
    "            population = select(population, len(population))\n",
    "            offspring = varAnd(population, toolbox, cxpb, mutpb)\n",
    "            evaluate(offspring)\n",
    "            population = offspring\n",
    "\n",
    "    As stated in the pseudocode above, the algorithm goes as follow. First, it\n",
    "    evaluates the individuals with an invalid fitness. Second, it enters the\n",
    "    generational loop where the selection procedure is applied to entirely\n",
    "    replace the parental population. The 1:1 replacement ratio of this\n",
    "    algorithm **requires** the selection procedure to be stochastic and to\n",
    "    select multiple times the same individual, for example,\n",
    "    :func:`~deap.tools.selTournament` and :func:`~deap.tools.selRoulette`.\n",
    "    Third, it applies the :func:`varAnd` function to produce the next\n",
    "    generation population. Fourth, it evaluates the new individuals and\n",
    "    compute the statistics on this population. Finally, when *ngen*\n",
    "    generations are done, the algorithm returns a tuple with the final\n",
    "    population and a :class:`~deap.tools.Logbook` of the evolution.\n",
    "\n",
    "    .. note::\n",
    "\n",
    "        Using a non-stochastic selection method will result in no selection as\n",
    "        the operator selects *n* individuals from a pool of *n*.\n",
    "\n",
    "    This function expects the :meth:`toolbox.mate`, :meth:`toolbox.mutate`,\n",
    "    :meth:`toolbox.select` and :meth:`toolbox.evaluate` aliases to be\n",
    "    registered in the toolbox.\n",
    "\n",
    "    .. [Back2000] Back, Fogel and Michalewicz, \"Evolutionary Computation 1 :\n",
    "       Basic Algorithms and Operators\", 2000.\n",
    "    \"\"\"\n",
    "    global sensor_dict\n",
    "    global triangles\n",
    "    global orientationMesh\n",
    "    \n",
    "    logbook = tools.Logbook()\n",
    "    logbook.header = ['gen', 'nevals'] + (stats.fields if stats else [])\n",
    "\n",
    "    # Evaluate the individuals with an invalid fitness\n",
    "    invalid_ind = [ind for ind in population if not ind.fitness.valid]\n",
    "    fitnesses = toolbox.map(toolbox.evaluate, invalid_ind)\n",
    "    for ind, fit in zip(invalid_ind, fitnesses):\n",
    "        ind.fitness.values = fit\n",
    "\n",
    "    if halloffame is not None:\n",
    "        halloffame.update(population)\n",
    "\n",
    "    record = stats.compile(population) if stats else {}\n",
    "    logbook.record(gen=0, nevals=len(invalid_ind), **record)\n",
    "    if verbose:\n",
    "        print logbook.stream\n",
    "\n",
    "    # Begin the generational process\n",
    "    for gen in range(1, ngen + 1):\n",
    "        # Select the next generation individuals\n",
    "        offspring = toolbox.select(population, len(population))\n",
    "\n",
    "        # Vary the pool of individuals\n",
    "        offspring = varAnd(offspring, toolbox, cxpb, mutpb)\n",
    "\n",
    "        # Evaluate the individuals with an invalid fitness\n",
    "        invalid_ind = [ind for ind in offspring if not ind.fitness.valid]\n",
    "        fitnesses = toolbox.map(toolbox.evaluate, invalid_ind)\n",
    "        for ind, fit in zip(invalid_ind, fitnesses):\n",
    "            ind.fitness.values = fit\n",
    "\n",
    "        # Update the hall of fame with the generated individuals\n",
    "        if halloffame is not None:\n",
    "            halloffame.update(offspring)\n",
    "\n",
    "        # Replace the current population by the offspring\n",
    "        population[:] = offspring\n",
    "\n",
    "        # Append the current generation statistics to the logbook\n",
    "        record = stats.compile(population) if stats else {}\n",
    "        logbook.record(gen=gen, nevals=len(invalid_ind), **record)\n",
    "        if verbose:\n",
    "            print logbook.stream\n",
    "        \n",
    "        sensorMovement = tools.selBest(population, k=1)[0]\n",
    "        bestSensorVis(sensor_dict, sensorMovement, rate=500, color=(0,1,0,0.8), sphereSize=0.3)\n",
    "        \n",
    "        if(gen%25==0):\n",
    "            global sensorDictBackup\n",
    "            global trianglesBackup\n",
    "            sensor_dict = sensorDictBackup\n",
    "            R = getRandomRotationmatrix()\n",
    "            sensorDictNew = []\n",
    "            \n",
    "            for sensor in sensor_dict:\n",
    "                sensorDictNew.append(np.squeeze(np.asarray(R.dot(np.array(sensor[1])))).tolist())\n",
    "                \n",
    "            sensor_dict = list(zip(range(len(sensorDictNew)), sensorDictNew))\n",
    "        \n",
    "            tri1 = R.dot(np.transpose(trianglesBackup[:,0:3]))\n",
    "            tri2 = R.dot(np.transpose(trianglesBackup[:,3:6]))\n",
    "            tri3 = R.dot(np.transpose(trianglesBackup[:,6:9]))\n",
    "\n",
    "            triangles = np.concatenate((tri1.T,tri2.T,tri3.T),axis=1)\n",
    "            \n",
    "            # resort the triangles by distance from lighthouses for speedup\n",
    "            global sortedTriangles\n",
    "\n",
    "            lighthouses = [LH1, LH2]\n",
    "            sortedTriangles = []\n",
    "\n",
    "            for l in lighthouses:\n",
    "                tris = trisByMinDistanceSortedMap(triangles, l[0])\n",
    "                sortedTriangles.append(tris)\n",
    "                \n",
    "                \n",
    "\n",
    "            orientationMesh = Quaternion(matrix=R)\n",
    "            \n",
    "            meshVisualization(orientationMesh, stl_file)\n",
    "            sensorVisualization(sensor_dict, rate=500, sphereSize=0.03, color=(0,0,1,1))\n",
    "            \n",
    "            \n",
    "    return population, logbook"
   ]
  },
  {
   "cell_type": "code",
   "execution_count": 20,
   "metadata": {
    "scrolled": true
   },
   "outputs": [
    {
     "name": "stdout",
     "output_type": "stream",
     "text": [
      "gen\tnevals\tavg \tstd     \tmin\tmax\n",
      "0  \t10    \t0.34\t0.162481\t0  \t0.7\n",
      "1  \t4     \t0.425\t0.166958\t0.1\t0.6\n",
      "2  \t6     \t0.475\t0.144482\t0.2\t0.6\n",
      "3  \t8     \t0.515\t0.115217\t0.3\t0.7\n",
      "4  \t8     \t0.575\t0.117792\t0.3\t0.8\n",
      "5  \t6     \t0.605\t0.143091\t0.2\t0.8\n",
      "6  \t3     \t0.635\t0.149248\t0.4\t0.8\n",
      "7  \t3     \t0.625\t0.166958\t0.3\t0.8\n",
      "8  \t6     \t0.64 \t0.149666\t0.4\t0.8\n",
      "9  \t4     \t0.63 \t0.155242\t0.4\t0.8\n",
      "10 \t6     \t0.65 \t0.15    \t0.5\t0.8\n",
      "11 \t8     \t0.635\t0.14586 \t0.4\t0.8\n",
      "12 \t8     \t0.645\t0.143091\t0.4\t0.8\n",
      "13 \t7     \t0.655\t0.111692\t0.5\t0.8\n",
      "14 \t10    \t0.67 \t0.122882\t0.4\t0.8\n",
      "15 \t4     \t0.66 \t0.131909\t0.4\t0.8\n",
      "16 \t7     \t0.67 \t0.114455\t0.5\t0.8\n",
      "17 \t6     \t0.68 \t0.107703\t0.5\t0.8\n",
      "18 \t0     \t0.7  \t0.1     \t0.6\t0.8\n",
      "19 \t6     \t0.7  \t0.0948683\t0.6\t0.8\n",
      "20 \t8     \t0.71 \t0.0943398\t0.6\t0.8\n",
      "21 \t6     \t0.71 \t0.0830662\t0.6\t0.8\n",
      "22 \t5     \t0.69 \t0.126095 \t0.3\t0.8\n",
      "23 \t1     \t0.735\t0.0653835\t0.6\t0.8\n",
      "24 \t6     \t0.73 \t0.0714143\t0.6\t0.8\n",
      "25 \t8     \t0.71 \t0.0994987\t0.5\t0.8\n",
      "26 \t4     \t0.585\t0.257439 \t0  \t0.8\n",
      "27 \t10    \t0.35 \t0.241868 \t0.1\t0.6\n",
      "28 \t4     \t0.35 \t0.233452 \t0.1\t0.6\n",
      "29 \t5     \t0.35 \t0.206155 \t0.1\t0.6\n",
      "30 \t4     \t0.35 \t0.168819 \t0.1\t0.6\n",
      "31 \t10    \t0.35 \t0.136015 \t0.2\t0.5\n",
      "32 \t6     \t0.345\t0.0864581\t0.2\t0.5\n",
      "33 \t5     \t0.355\t0.0497494\t0.3\t0.4\n",
      "34 \t8     \t0.355\t0.0920598\t0.1\t0.6\n",
      "35 \t5     \t0.38 \t0.0812404\t0.2\t0.6\n",
      "36 \t5     \t0.375\t0.0433013\t0.3\t0.4\n",
      "37 \t7     \t0.395\t0.0739932\t0.1\t0.5\n",
      "38 \t7     \t0.435\t0.090967 \t0.2\t0.7\n",
      "39 \t4     \t0.45 \t0.111803 \t0.2\t0.7\n",
      "40 \t5     \t0.425\t0.184052 \t0  \t0.7\n",
      "41 \t7     \t0.45 \t0.196214 \t0.2\t0.7\n",
      "42 \t2     \t0.475\t0.211837 \t0.2\t0.7\n",
      "43 \t7     \t0.475\t0.181315 \t0.3\t0.7\n",
      "44 \t4     \t0.495\t0.193585 \t0.3\t0.8\n",
      "45 \t6     \t0.54 \t0.193391 \t0.3\t0.8\n",
      "46 \t8     \t0.555\t0.185674 \t0.3\t0.8\n",
      "47 \t6     \t0.6  \t0.2      \t0.4\t0.8\n",
      "48 \t4     \t0.6  \t0.2      \t0.4\t0.8\n",
      "49 \t5     \t0.59 \t0.202237 \t0.3\t0.8\n",
      "50 \t5     \t0.56 \t0.222261 \t0.2\t0.8\n",
      "51 \t5     \t0.425\t0.248747 \t0.1\t0.8\n",
      "52 \t6     \t0.39 \t0.242693 \t0.1\t0.8\n",
      "53 \t3     \t0.495\t0.245917 \t0.1\t0.8\n",
      "54 \t10    \t0.27 \t0.15843  \t0.1\t0.6\n",
      "55 \t5     \t0.285\t0.165151 \t0.1\t0.6\n",
      "56 \t8     \t0.36 \t0.188149 \t0.1\t0.6\n",
      "57 \t5     \t0.405\t0.19615  \t0.2\t0.6\n",
      "58 \t7     \t0.395\t0.185674 \t0.1\t0.6\n",
      "59 \t6     \t0.425\t0.169926 \t0.2\t0.6\n",
      "60 \t8     \t0.44 \t0.168523 \t0.2\t0.7\n",
      "61 \t3     \t0.455\t0.213249 \t0.1\t0.7\n",
      "62 \t6     \t0.435\t0.208026 \t0.1\t0.7\n",
      "63 \t7     \t0.47 \t0.230434 \t0.2\t0.8\n",
      "64 \t7     \t0.485\t0.230814 \t0.2\t0.8\n",
      "65 \t3     \t0.495\t0.251942 \t0.2\t0.8\n",
      "66 \t7     \t0.495\t0.278343 \t0.2\t0.8\n",
      "67 \t5     \t0.5  \t0.291548 \t0.2\t0.8\n",
      "68 \t2     \t0.495\t0.305737 \t0.1\t0.8\n",
      "69 \t7     \t0.495\t0.295762 \t0.2\t0.8\n",
      "70 \t5     \t0.47 \t0.266646 \t0.2\t0.8\n",
      "71 \t7     \t0.505\t0.30899  \t0.1\t0.9\n",
      "72 \t4     \t0.485\t0.297111 \t0.2\t0.9\n",
      "73 \t6     \t0.54 \t0.332265 \t0.2\t0.9\n",
      "74 \t6     \t0.55 \t0.35     \t0.2\t0.9\n",
      "75 \t5     \t0.545\t0.341284 \t0.1\t1  \n",
      "76 \t8     \t0.525\t0.301455 \t0.1\t1  \n",
      "77 \t6     \t0.57 \t0.337787 \t0.1\t1  \n",
      "78 \t3     \t0.54 \t0.3747   \t0.1\t1  \n",
      "79 \t7     \t0.57 \t0.339264 \t0.1\t1  \n",
      "80 \t8     \t0.575\t0.294746 \t0.1\t1  \n",
      "81 \t8     \t0.575\t0.289612 \t0.1\t1  \n",
      "82 \t6     \t0.55 \t0.295804 \t0.1\t1  \n",
      "83 \t3     \t0.57 \t0.38092  \t0.1\t1  \n",
      "84 \t5     \t0.58 \t0.380263 \t0.1\t1  \n",
      "85 \t7     \t0.57 \t0.322645 \t0.1\t1  \n",
      "86 \t9     \t0.59 \t0.291376 \t0.1\t1  \n",
      "87 \t6     \t0.605\t0.278343 \t0.1\t1  \n",
      "88 \t10    \t0.635\t0.266974 \t0.3\t0.9\n",
      "89 \t7     \t0.63 \t0.230434 \t0.3\t0.9\n",
      "90 \t7     \t0.635\t0.205609 \t0.4\t0.9\n",
      "91 \t5     \t0.63 \t0.173494 \t0.4\t0.9\n",
      "92 \t6     \t0.615\t0.155804 \t0.3\t0.8\n",
      "93 \t9     \t0.645\t0.162711 \t0.4\t0.9\n",
      "94 \t5     \t0.66 \t0.174356 \t0.4\t0.9\n",
      "95 \t6     \t0.685\t0.187816 \t0.5\t0.9\n",
      "96 \t7     \t0.695\t0.19615  \t0.5\t0.9\n",
      "97 \t6     \t0.695\t0.188348 \t0.5\t0.9\n",
      "98 \t6     \t0.695\t0.165756 \t0.4\t0.9\n",
      "99 \t5     \t0.675\t0.133697 \t0.5\t0.9\n",
      "100\t4     \t0.69 \t0.126095 \t0.5\t0.9\n"
     ]
    }
   ],
   "source": [
    "population, log = eaSimpleMod(population, \n",
    "                                toolbox, \n",
    "                                cxpb=0.5, \n",
    "                                mutpb=0.2, \n",
    "                                ngen=100, \n",
    "                                stats=stats, \n",
    "                                halloffame=hof, \n",
    "                                verbose=True)"
   ]
  },
  {
   "cell_type": "code",
   "execution_count": 21,
   "metadata": {
    "scrolled": true
   },
   "outputs": [
    {
     "name": "stdout",
     "output_type": "stream",
     "text": [
      "[172, 443, 152, 454, 154, 209, 441, 150, 156, 233]\n"
     ]
    }
   ],
   "source": [
    "bestSensors = tools.selBest(population, k=1)[0]\n",
    "print(bestSensors)"
   ]
  },
  {
   "cell_type": "code",
   "execution_count": 22,
   "metadata": {
    "scrolled": false
   },
   "outputs": [],
   "source": [
    "from data.bestSensorVis import bestSensorVis\n",
    "#Sensor visualization in RVIZ\n",
    "\n",
    "bestSensorVis(sensor_dict, bestSensors, rate=500, color=(1,0,0,0.8), sphereSize=0.1)\n"
   ]
  },
  {
   "cell_type": "code",
   "execution_count": null,
   "metadata": {},
   "outputs": [],
   "source": []
  },
  {
   "cell_type": "code",
   "execution_count": null,
   "metadata": {},
   "outputs": [],
   "source": []
  }
 ],
 "metadata": {
  "kernelspec": {
   "display_name": "Python 2",
   "language": "python",
   "name": "python2"
  },
  "language_info": {
   "codemirror_mode": {
    "name": "ipython",
    "version": 2
   },
   "file_extension": ".py",
   "mimetype": "text/x-python",
   "name": "python",
   "nbconvert_exporter": "python",
   "pygments_lexer": "ipython2",
   "version": "2.7.12"
  }
 },
 "nbformat": 4,
 "nbformat_minor": 2
}
