{
 "cells": [
  {
   "cell_type": "markdown",
   "metadata": {},
   "source": [
    "# Genetic algo for lighthouse sensor distribution on arbitrary mesh"
   ]
  },
  {
   "cell_type": "code",
   "execution_count": 1,
   "metadata": {
    "scrolled": true
   },
   "outputs": [],
   "source": [
    "import numpy as np\n",
    "from stl import mesh as meshstl\n",
    "from mpl_toolkits import mplot3d\n",
    "import matplotlib.pyplot as plt\n",
    "from data.plotmesh import plot_mesh\n",
    "import math\n",
    "import random\n",
    "from pyquaternion import Quaternion\n",
    "from scipy.linalg import qr\n",
    "import roslib\n",
    "import rospy\n",
    "import math\n",
    "import tf\n",
    "rospy.init_node('fixed_tf_broadcaster')"
   ]
  },
  {
   "cell_type": "code",
   "execution_count": 2,
   "metadata": {},
   "outputs": [],
   "source": [
    "#how many sensors would u like to distribute?\n",
    "sensorsToDistribute = 25\n",
    "stl_file = 'roboy_models/TestCube/stls/IcoSphere_360.stl'"
   ]
  },
  {
   "cell_type": "code",
   "execution_count": 3,
   "metadata": {
    "scrolled": true
   },
   "outputs": [
    {
     "name": "stdout",
     "output_type": "stream",
     "text": [
      "([-2.0, 0, 2.0], Quaternion(0.70710678118654757, -0.0, -0.0, -0.70710678118654746))\n",
      "([2, 0.0, 2.0], Quaternion(0.70710678118654757, 0.0, 0.0, 0.70710678118654746))\n"
     ]
    }
   ],
   "source": [
    "#Move Lighthouses to\n",
    "translationLH1 = [-2.,0,2.]\n",
    "quat1 = Quaternion(axis=[0,0,1],angle=-np.pi / 2)\n",
    "\n",
    "global LH1 \n",
    "LH1 = (translationLH1, quat1)\n",
    "\n",
    "translationLH2 = [2,0.,2.]\n",
    "quat2 = Quaternion(axis=[0,0,1], angle=np.pi / 2)\n",
    "\n",
    "global LH2\n",
    "LH2 = (translationLH2, quat2)\n",
    "\n",
    "print(LH1); print(LH2)"
   ]
  },
  {
   "cell_type": "code",
   "execution_count": 4,
   "metadata": {},
   "outputs": [],
   "source": [
    "from data.rvizMeshVis import meshVisualization\n",
    "\n",
    "scale = 0.01\n",
    "position = [0,0,0]\n",
    "global orientationMesh\n",
    "orientationMesh = Quaternion(axis=(1,0,0),angle = np.pi*0)\n",
    "\n",
    "meshVisualization(orientationMesh, stl_file, position, scale)"
   ]
  },
  {
   "cell_type": "code",
   "execution_count": null,
   "metadata": {},
   "outputs": [],
   "source": [
    "\n"
   ]
  },
  {
   "cell_type": "markdown",
   "metadata": {},
   "source": [
    "# Preprocess data"
   ]
  },
  {
   "cell_type": "code",
   "execution_count": 5,
   "metadata": {
    "scrolled": true
   },
   "outputs": [
    {
     "name": "stdout",
     "output_type": "stream",
     "text": [
      "484 triangles\n",
      "\n",
      "1452 vertices\n",
      "\n",
      "484 sensors in centers of triangles\n"
     ]
    }
   ],
   "source": [
    "#Get mesh vertices and normals\n",
    "mesh1 = meshstl.Mesh.from_file(('../'+ stl_file))\n",
    "#mesh1 = meshstl.Mesh.from_file('../src/roboy_models/roboy_2_0_simplified/meshes/CAD/torso.stl')\n",
    "\n",
    "global triangles \n",
    "global trianglesBackup\n",
    "triangles = scale * np.matrix(mesh1.points)\n",
    "trianglesBackup = triangles\n",
    "\n",
    "vertices = np.reshape(triangles,(len(triangles)*3,3)) \n",
    "\n",
    "#Initialize sensors in centers of triangle\n",
    "sensors = (triangles[:,0:3]+triangles[:,3:6]+triangles[:,6:9])/3\n",
    "\n",
    "print('%d triangles' %len(triangles))\n",
    "#print(triangles)\n",
    "print('')\n",
    "print('%d vertices' %len(vertices))\n",
    "#print(vertices)\n",
    "print('')\n",
    "print('%d sensors in centers of triangles' %len(sensors))\n",
    "#print(sensors)\n",
    "#print(vertices); print(normals); print(sensors)"
   ]
  },
  {
   "cell_type": "code",
   "execution_count": 6,
   "metadata": {},
   "outputs": [],
   "source": [
    "#print(triangles)\n",
    "#print(triangles.shape)\n",
    "\n",
    "test = np.concatenate((triangles[:,0:3],triangles[:,3:6],triangles[:,6:9]),axis=1)\n",
    "#print('test1')\n",
    "#print(test)\n",
    "#print(test.shape)\n"
   ]
  },
  {
   "cell_type": "code",
   "execution_count": 7,
   "metadata": {
    "scrolled": true
   },
   "outputs": [],
   "source": [
    "#Prepare vertices, normals and sensor locations for Transformation\n",
    "\n",
    "verticesRot = np.insert(vertices, 3,values=1,axis=1)\n",
    "#print(verticesRot)\n",
    "#print('')\n",
    "\n",
    "sensorsRot = np.insert(vertices, 3,values=1,axis=1)\n",
    "#print(sensorsRot)\n",
    "#print('')"
   ]
  },
  {
   "cell_type": "markdown",
   "metadata": {},
   "source": [
    "# GA"
   ]
  },
  {
   "cell_type": "code",
   "execution_count": 8,
   "metadata": {
    "scrolled": true
   },
   "outputs": [],
   "source": [
    "from deap import algorithms, base, creator, tools"
   ]
  },
  {
   "cell_type": "code",
   "execution_count": 9,
   "metadata": {
    "scrolled": false
   },
   "outputs": [],
   "source": [
    "#sensors to dict\n",
    "global sensor_dict\n",
    "sensor_dict =  list(zip(range(len(sensors)), sensors.tolist()))\n",
    "\n",
    "global sensorDictBackup\n",
    "sensorDictBackup = sensor_dict\n"
   ]
  },
  {
   "cell_type": "code",
   "execution_count": 10,
   "metadata": {},
   "outputs": [],
   "source": [
    "from data.rvizSensorVis import sensorVisualization\n",
    "\n",
    "#color = (r,g,b,a)\n",
    "sensorVisualization(sensor_dict, rate=500, sphereSize=0.03, color=(0,0,1,1))"
   ]
  },
  {
   "cell_type": "code",
   "execution_count": 11,
   "metadata": {},
   "outputs": [],
   "source": [
    "creator.create(\"FitnessMax\", base.Fitness, weights=(0.00000001/sensorsToDistribute,1.0,1.0)) # 1 -> maximum probblem\n",
    "creator.create(\"Individual\", list, fitness=creator.FitnessMax)"
   ]
  },
  {
   "cell_type": "code",
   "execution_count": 12,
   "metadata": {},
   "outputs": [],
   "source": [
    "toolbox = base.Toolbox()"
   ]
  },
  {
   "cell_type": "code",
   "execution_count": 13,
   "metadata": {},
   "outputs": [],
   "source": [
    "from data.randomSensor import randomSensor\n",
    "\n",
    "toolbox = base.Toolbox()\n",
    "# Attribute generator \n",
    "toolbox.register(\"attr_bool\", randomSensor, sensor_dict)\n",
    "# Structure initializers\n",
    "toolbox.register(\"individual\", tools.initRepeat, creator.Individual, \n",
    "    toolbox.attr_bool, sensorsToDistribute)\n",
    "toolbox.register(\"population\", tools.initRepeat, list, toolbox.individual)"
   ]
  },
  {
   "cell_type": "code",
   "execution_count": 14,
   "metadata": {},
   "outputs": [
    {
     "data": {
      "text/plain": [
       "170"
      ]
     },
     "execution_count": 14,
     "metadata": {},
     "output_type": "execute_result"
    }
   ],
   "source": [
    "toolbox.attr_bool()"
   ]
  },
  {
   "cell_type": "code",
   "execution_count": 15,
   "metadata": {},
   "outputs": [
    {
     "data": {
      "text/plain": [
       "[267,\n",
       " 32,\n",
       " 89,\n",
       " 192,\n",
       " 451,\n",
       " 8,\n",
       " 385,\n",
       " 55,\n",
       " 192,\n",
       " 382,\n",
       " 237,\n",
       " 281,\n",
       " 356,\n",
       " 431,\n",
       " 276,\n",
       " 132,\n",
       " 183,\n",
       " 464,\n",
       " 478,\n",
       " 448,\n",
       " 452,\n",
       " 479,\n",
       " 468,\n",
       " 385,\n",
       " 65]"
      ]
     },
     "execution_count": 15,
     "metadata": {},
     "output_type": "execute_result"
    }
   ],
   "source": [
    "toolbox.individual()"
   ]
  },
  {
   "cell_type": "markdown",
   "metadata": {},
   "source": [
    "# Evaluation (Fitness) Function"
   ]
  },
  {
   "cell_type": "code",
   "execution_count": 16,
   "metadata": {},
   "outputs": [],
   "source": [
    "from data.RayIntersectsTriangle import rayIntersectsTriangle, rayIntersectsTriangleVisualization\n",
    "\n",
    "def FitnessFunction(sensors):\n",
    "    \n",
    "    br = tf.TransformBroadcaster()\n",
    "    br.sendTransform((LH1[0][0], LH1[0][1], LH1[0][2]),\n",
    "                     (quat1[0], quat1[1], quat1[2], quat1[3]),\n",
    "                     rospy.Time.now(),\n",
    "                     \"lighthouse1\",\n",
    "                     \"world\")\n",
    "    br.sendTransform((LH2[0][0], LH2[0][1], LH2[0][2]),\n",
    "                     (quat2[0], quat2[1], quat2[2], quat2[3]),\n",
    "                     rospy.Time.now(),\n",
    "                     \"lighthouse2\",\n",
    "                     \"world\")\n",
    "\n",
    "    \n",
    "    #1. COMPUTE VISIBLE SENSORS AT THE MOMENT\n",
    "    LH1_array = np.asarray(LH1[0])\n",
    "    LH2_array = np.asarray(LH2[0])\n",
    "    #testTriangle = np.squeeze(np.asarray(triangles[0]))\n",
    "\n",
    "    visibleLH1 = 0\n",
    "    visibleLH2 = 0\n",
    "\n",
    "    for i, nmbr_sensor in enumerate(sensors):\n",
    "        sensor = sensor_dict[nmbr_sensor][1]\n",
    "\n",
    "        #get distance of current sensor and check if intersection\n",
    "        interDistLH1 = rayIntersectsTriangle(LH1_array, sensor, \n",
    "                                             np.squeeze(np.asarray(triangles[nmbr_sensor])), 'lighthouse1')\n",
    "        interDistLH2 = rayIntersectsTriangle(LH2_array, sensor, \n",
    "                                             np.squeeze(np.asarray(triangles[nmbr_sensor])), 'lighthouse2')\n",
    "        \n",
    "        #print('interDist');print(interDistLH1);print(interDistLH2);print('endinterDist')\n",
    "\n",
    "        isVisible1 = True\n",
    "        isVisible2 = True\n",
    "        \n",
    "        for j in range(len(triangles)):\n",
    "            if(nmbr_sensor != j):\n",
    "                #print(j)\n",
    "                if(isVisible1):\n",
    "                    newInterDistLH1 = rayIntersectsTriangle(LH1_array, sensor, \n",
    "                                                        np.squeeze(np.asarray(triangles[j])), 'lighthouse1')\n",
    "                    if(newInterDistLH1 < interDistLH1 and newInterDistLH1 != False):\n",
    "                        isVisible1 = False\n",
    "                        #interDistLH1 = newInterDistLH1\n",
    "                        #visibleLH1 += 1\n",
    "                if(isVisible2):\n",
    "                    newInterDistLH2 = rayIntersectsTriangle(LH2_array, sensor, \n",
    "                                                        np.squeeze(np.asarray(triangles[j])), 'lighthouse2')\n",
    "                    if(newInterDistLH2 < interDistLH2 and newInterDistLH2 != False):\n",
    "                        isVisible2 = False\n",
    "                        #interDistLH2 = newInterDistLH2\n",
    "                        #visibleLH2 += 1\n",
    "                    \n",
    "                if(not (isVisible1 or isVisible2)):\n",
    "                    break\n",
    "        \n",
    "        if(isVisible1):\n",
    "            visibleLH1 += 1\n",
    "        if(isVisible2):\n",
    "            visibleLH2 += 1\n",
    "        #print(newInterDistLH1); print(newInterDistLH2)\n",
    "        \n",
    "    #2. COMPUTE EUCLIDEAN DISTANCE OF SENSORS\n",
    "    individual = sensors\n",
    "    dist = 0\n",
    "    for i,ind in enumerate(individual):\n",
    "        ind = np.asarray(sensor_dict[ind][1])\n",
    "        for j in range(i,len(individual)):\n",
    "            if(i != j):\n",
    "                indivi = np.asarray(sensor_dict[individual[j]][1])\n",
    "                dist += np.linalg.norm(ind-indivi)\n",
    "\n",
    "    #print(visibleLH1);print(visibleLH2);print('')\n",
    "    \n",
    "    return dist, visibleLH1, visibleLH2"
   ]
  },
  {
   "cell_type": "code",
   "execution_count": 17,
   "metadata": {},
   "outputs": [],
   "source": [
    "toolbox.register(\"evaluate\", FitnessFunction)\n",
    "\n",
    "toolbox.register(\"mate\", tools.cxTwoPoint)\n",
    "# Independent probability  : for each attribute to be mutated.# low~up rondom int\n",
    "toolbox.register(\"mutate\", tools.mutUniformInt, low=0, up=len(sensors.tolist())-1, indpb=0.2) \n",
    "toolbox.register(\"select\", tools.selTournament, tournsize=3)"
   ]
  },
  {
   "cell_type": "code",
   "execution_count": 18,
   "metadata": {},
   "outputs": [],
   "source": [
    "# Creating population\n",
    "\n",
    "population = toolbox.population(n=10)"
   ]
  },
  {
   "cell_type": "code",
   "execution_count": 19,
   "metadata": {},
   "outputs": [],
   "source": [
    "hof = tools.HallOfFame(1)"
   ]
  },
  {
   "cell_type": "code",
   "execution_count": 20,
   "metadata": {},
   "outputs": [],
   "source": [
    "stats = tools.Statistics(lambda ind: ind.fitness.values)\n",
    "stats.register(\"avg\", np.mean)\n",
    "stats.register(\"std\", np.std)\n",
    "stats.register(\"min\", np.min)\n",
    "stats.register(\"max\", np.max)"
   ]
  },
  {
   "cell_type": "code",
   "execution_count": 21,
   "metadata": {
    "scrolled": false
   },
   "outputs": [],
   "source": [
    "from data.algorithmsMod import varAnd\n",
    "from deap import tools\n",
    "from data.trafomatrix import getRandomRotationmatrix\n",
    "\n",
    "#MODDED VERSION of eaSimple from DEAP\n",
    "def eaSimpleMod(population, toolbox, cxpb, mutpb, ngen, stats=None,\n",
    "             halloffame=None, verbose=__debug__):\n",
    "    \"\"\"This algorithm reproduce the simplest evolutionary algorithm as\n",
    "    presented in chapter 7 of [Back2000]_.\n",
    "\n",
    "    :param population: A list of individuals.\n",
    "    :param toolbox: A :class:`~deap.base.Toolbox` that contains the evolution\n",
    "                    operators.\n",
    "    :param cxpb: The probability of mating two individuals.\n",
    "    :param mutpb: The probability of mutating an individual.\n",
    "    :param ngen: The number of generation.\n",
    "    :param stats: A :class:`~deap.tools.Statistics` object that is updated\n",
    "                  inplace, optional.\n",
    "    :param halloffame: A :class:`~deap.tools.HallOfFame` object that will\n",
    "                       contain the best individuals, optional.\n",
    "    :param verbose: Whether or not to log the statistics.\n",
    "    :returns: The final population\n",
    "    :returns: A class:`~deap.tools.Logbook` with the statistics of the\n",
    "              evolution\n",
    "\n",
    "    The algorithm takes in a population and evolves it in place using the\n",
    "    :meth:`varAnd` method. It returns the optimized population and a\n",
    "    :class:`~deap.tools.Logbook` with the statistics of the evolution. The\n",
    "    logbook will contain the generation number, the number of evalutions for\n",
    "    each generation and the statistics if a :class:`~deap.tools.Statistics` is\n",
    "    given as argument. The *cxpb* and *mutpb* arguments are passed to the\n",
    "    :func:`varAnd` function. The pseudocode goes as follow ::\n",
    "\n",
    "        evaluate(population)\n",
    "        for g in range(ngen):\n",
    "            population = select(population, len(population))\n",
    "            offspring = varAnd(population, toolbox, cxpb, mutpb)\n",
    "            evaluate(offspring)\n",
    "            population = offspring\n",
    "\n",
    "    As stated in the pseudocode above, the algorithm goes as follow. First, it\n",
    "    evaluates the individuals with an invalid fitness. Second, it enters the\n",
    "    generational loop where the selection procedure is applied to entirely\n",
    "    replace the parental population. The 1:1 replacement ratio of this\n",
    "    algorithm **requires** the selection procedure to be stochastic and to\n",
    "    select multiple times the same individual, for example,\n",
    "    :func:`~deap.tools.selTournament` and :func:`~deap.tools.selRoulette`.\n",
    "    Third, it applies the :func:`varAnd` function to produce the next\n",
    "    generation population. Fourth, it evaluates the new individuals and\n",
    "    compute the statistics on this population. Finally, when *ngen*\n",
    "    generations are done, the algorithm returns a tuple with the final\n",
    "    population and a :class:`~deap.tools.Logbook` of the evolution.\n",
    "\n",
    "    .. note::\n",
    "\n",
    "        Using a non-stochastic selection method will result in no selection as\n",
    "        the operator selects *n* individuals from a pool of *n*.\n",
    "\n",
    "    This function expects the :meth:`toolbox.mate`, :meth:`toolbox.mutate`,\n",
    "    :meth:`toolbox.select` and :meth:`toolbox.evaluate` aliases to be\n",
    "    registered in the toolbox.\n",
    "\n",
    "    .. [Back2000] Back, Fogel and Michalewicz, \"Evolutionary Computation 1 :\n",
    "       Basic Algorithms and Operators\", 2000.\n",
    "    \"\"\"\n",
    "    global sensor_dict\n",
    "    global triangles\n",
    "    global orientationMesh\n",
    "    \n",
    "    logbook = tools.Logbook()\n",
    "    logbook.header = ['gen', 'nevals'] + (stats.fields if stats else [])\n",
    "\n",
    "    # Evaluate the individuals with an invalid fitness\n",
    "    invalid_ind = [ind for ind in population if not ind.fitness.valid]\n",
    "    fitnesses = toolbox.map(toolbox.evaluate, invalid_ind)\n",
    "    for ind, fit in zip(invalid_ind, fitnesses):\n",
    "        ind.fitness.values = fit\n",
    "\n",
    "    if halloffame is not None:\n",
    "        halloffame.update(population)\n",
    "\n",
    "    record = stats.compile(population) if stats else {}\n",
    "    logbook.record(gen=0, nevals=len(invalid_ind), **record)\n",
    "    if verbose:\n",
    "        print logbook.stream\n",
    "\n",
    "    # Begin the generational process\n",
    "    for gen in range(1, ngen + 1):\n",
    "        # Select the next generation individuals\n",
    "        offspring = toolbox.select(population, len(population))\n",
    "\n",
    "        # Vary the pool of individuals\n",
    "        offspring = varAnd(offspring, toolbox, cxpb, mutpb)\n",
    "\n",
    "        # Evaluate the individuals with an invalid fitness\n",
    "        invalid_ind = [ind for ind in offspring if not ind.fitness.valid]\n",
    "        fitnesses = toolbox.map(toolbox.evaluate, invalid_ind)\n",
    "        for ind, fit in zip(invalid_ind, fitnesses):\n",
    "            ind.fitness.values = fit\n",
    "\n",
    "        # Update the hall of fame with the generated individuals\n",
    "        if halloffame is not None:\n",
    "            halloffame.update(offspring)\n",
    "\n",
    "        # Replace the current population by the offspring\n",
    "        population[:] = offspring\n",
    "\n",
    "        # Append the current generation statistics to the logbook\n",
    "        record = stats.compile(population) if stats else {}\n",
    "        logbook.record(gen=gen, nevals=len(invalid_ind), **record)\n",
    "        if verbose:\n",
    "            print logbook.stream\n",
    "            \n",
    "\n",
    "        \n",
    "        if(gen%5==0):\n",
    "            global sensorDictBackup\n",
    "            global trianglesBackup\n",
    "            sensor_dict = sensorDictBackup\n",
    "            R = getRandomRotationmatrix()\n",
    "            sensorDictNew = []\n",
    "            \n",
    "            for sensor in sensor_dict:\n",
    "                sensorDictNew.append(np.squeeze(np.asarray(R.dot(np.array(sensor[1])))).tolist())\n",
    "                \n",
    "            sensor_dict = list(zip(range(len(sensorDictNew)), sensorDictNew))\n",
    "        \n",
    "            tri1 = R.dot(np.transpose(trianglesBackup[:,0:3]))\n",
    "            tri2 = R.dot(np.transpose(trianglesBackup[:,3:6]))\n",
    "            tri3 = R.dot(np.transpose(trianglesBackup[:,6:9]))\n",
    "\n",
    "            triangles = np.concatenate((tri1.T,tri2.T,tri3.T),axis=1)\n",
    "\n",
    "            orientationMesh = Quaternion(matrix=R)\n",
    "            \n",
    "            meshVisualization(orientationMesh, stl_file)\n",
    "            sensorVisualization(sensor_dict, rate=500, sphereSize=0.03, color=(0,0,1,1))\n",
    "            \n",
    "    return population, logbook"
   ]
  },
  {
   "cell_type": "code",
   "execution_count": 22,
   "metadata": {
    "scrolled": false
   },
   "outputs": [
    {
     "name": "stdout",
     "output_type": "stream",
     "text": [
      "gen\tnevals\tavg    \tstd    \tmin\tmax    \n",
      "0  \t10    \t137.987\t182.898\t6  \t406.008\n",
      "1  \t10    \t139.486\t184.772\t5  \t406.928\n",
      "2  \t9     \t140.528\t186.095\t7  \t406.928\n",
      "3  \t6     \t140.769\t186.011\t7  \t406.469\n",
      "4  \t6     \t141.457\t186.972\t7  \t407.405\n",
      "5  \t3     \t141.461\t187.33 \t7  \t407.99 \n",
      "6  \t8     \t141.254\t187.676\t7  \t408.138\n",
      "7  \t5     \t141.016\t187.353\t7  \t407.666\n",
      "8  \t5     \t140.604\t186.769\t6  \t407.666\n",
      "9  \t8     \t140.485\t187.582\t6  \t407.666\n",
      "10 \t4     \t139.846\t186.636\t4  \t407.666\n",
      "11 \t8     \t140.296\t186.894\t5  \t407.666\n",
      "12 \t6     \t140.534\t187.305\t5  \t407.666\n",
      "13 \t6     \t140.727\t188.277\t5  \t407.666\n",
      "14 \t3     \t141.032\t188.001\t6  \t407.666\n",
      "15 \t9     \t140.236\t187.8  \t7  \t407.666\n",
      "16 \t4     \t140.113\t188.049\t7  \t407.896\n",
      "17 \t6     \t140.13 \t188.279\t6  \t407.896\n",
      "18 \t8     \t140.586\t188.708\t6  \t407.896\n",
      "19 \t4     \t140.695\t188.511\t7  \t407.896\n",
      "20 \t8     \t140.658\t188.95 \t7  \t407.896\n",
      "21 \t7     \t141.123\t187.991\t7  \t407.896\n",
      "22 \t5     \t141.364\t188.398\t6  \t407.896\n",
      "23 \t7     \t141.207\t187.825\t6  \t407.896\n",
      "24 \t5     \t141.454\t188.031\t6  \t407.896\n",
      "25 \t5     \t141.448\t188.091\t6  \t407.896\n",
      "26 \t5     \t141.092\t187.944\t5  \t407.896\n",
      "27 \t5     \t141.515\t187.975\t7  \t407.896\n",
      "28 \t4     \t140.808\t187.201\t4  \t407.896\n",
      "29 \t4     \t140.74 \t187.67 \t5  \t407.896\n",
      "30 \t10    \t141.282\t188.491\t7  \t407.896\n",
      "31 \t8     \t141.032\t188.702\t7  \t407.896\n",
      "32 \t6     \t140.89 \t188.291\t7  \t407.896\n",
      "33 \t6     \t140.965\t188.749\t7  \t407.896\n",
      "34 \t7     \t140.626\t187.935\t7  \t407.896\n",
      "35 \t5     \t140.877\t188.414\t7  \t407.896\n",
      "36 \t4     \t140.653\t188.663\t6  \t407.896\n",
      "37 \t7     \t140.262\t188.535\t5  \t407.896\n",
      "38 \t7     \t140.034\t188.009\t5  \t408.181\n",
      "39 \t7     \t140.375\t187.723\t6  \t408.181\n",
      "40 \t6     \t139.969\t187.859\t4  \t408.181\n",
      "41 \t5     \t140.938\t188.641\t6  \t408.181\n",
      "42 \t4     \t141.06 \t188.883\t7  \t408.181\n",
      "43 \t6     \t141.06 \t188.883\t7  \t408.181\n",
      "44 \t6     \t141.089\t188.853\t7  \t408.181\n",
      "45 \t6     \t140.765\t188.468\t6  \t408.181\n",
      "46 \t5     \t140.965\t188.33 \t5  \t408.181\n",
      "47 \t7     \t140.999\t188.099\t6  \t408.181\n",
      "48 \t6     \t141.289\t188.359\t8  \t408.181\n",
      "49 \t3     \t140.626\t187.934\t4  \t408.181\n",
      "50 \t4     \t141.3  \t188.446\t7  \t408.181\n"
     ]
    }
   ],
   "source": [
    "population, log = eaSimpleMod(population, \n",
    "                                toolbox, \n",
    "                                cxpb=0.5, \n",
    "                                mutpb=0.2, \n",
    "                                ngen=50, \n",
    "                                stats=stats, \n",
    "                                halloffame=hof, \n",
    "                                verbose=True)"
   ]
  },
  {
   "cell_type": "code",
   "execution_count": 23,
   "metadata": {
    "scrolled": true
   },
   "outputs": [
    {
     "name": "stdout",
     "output_type": "stream",
     "text": [
      "[57, 107, 334, 368, 355, 163, 68, 10, 46, 463, 131, 253, 350, 258, 136, 363, 428, 464, 79, 311, 430, 114, 200, 204, 265]\n"
     ]
    }
   ],
   "source": [
    "bestSensors = tools.selBest(population, k=1)[0]\n",
    "print(bestSensors)"
   ]
  },
  {
   "cell_type": "code",
   "execution_count": 25,
   "metadata": {
    "scrolled": false
   },
   "outputs": [],
   "source": [
    "from data.bestSensorVis import bestSensorVis\n",
    "#Sensor visualization in RVIZ\n",
    "\n",
    "bestSensorVis(sensor_dict, bestSensors, rate=500, color=(1,0,0,0.8), sphereSize=0.1)\n"
   ]
  },
  {
   "cell_type": "code",
   "execution_count": null,
   "metadata": {},
   "outputs": [],
   "source": []
  },
  {
   "cell_type": "code",
   "execution_count": null,
   "metadata": {},
   "outputs": [],
   "source": []
  }
 ],
 "metadata": {
  "kernelspec": {
   "display_name": "Python 2",
   "language": "python",
   "name": "python2"
  },
  "language_info": {
   "codemirror_mode": {
    "name": "ipython",
    "version": 2
   },
   "file_extension": ".py",
   "mimetype": "text/x-python",
   "name": "python",
   "nbconvert_exporter": "python",
   "pygments_lexer": "ipython2",
   "version": "2.7.12"
  }
 },
 "nbformat": 4,
 "nbformat_minor": 2
}
